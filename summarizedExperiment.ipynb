{
 "cells": [
  {
   "cell_type": "markdown",
   "metadata": {},
   "source": [
    "# Storing RNA-seq data with Bioconductor, intro to SummarizedExperiment & SingleCellExperiment"
   ]
  },
  {
   "cell_type": "markdown",
   "metadata": {},
   "source": [
    "- **Notes: Prior to the rstat journal club, software need to be installed and R should be updated to R4.0.**\n",
    "- [Google doc with information](https://docs.google.com/document/d/1umDODmdQldf5w2lNDoFe-unmezHPonpCiKD270VwkrQ/edit?usp=sharing)\n",
    "\n",
    "Most of the notes below are copied from the google doc.\n",
    "\n",
    "```\n",
    "if (!requireNamespace(\"BiocManager\", quietly = TRUE))\n",
    "    install.packages(\"BiocManager\")\n",
    "\n",
    "BiocManager::install(\"SummarizedExperiment\")\n",
    "BiocManager::install(\"rtracklayer\")\n",
    "BiocManager::install(\"SingleCellExperiment\")\n",
    "```"
   ]
  },
  {
   "cell_type": "markdown",
   "metadata": {},
   "source": [
    "## RNAseq gene workflow\n",
    "- [rnaseqGene workflow](http://bioconductor.org/packages/release/workflows/vignettes/rnaseqGene/inst/doc/rnaseqGene.html)\n",
    "- This document has a good tutorial for proforming differential expression\n",
    " - Uses DESeq2\n",
    " - Review Salmon\n",
    " - Section 3 introduces *SummarizedExperiment*"
   ]
  },
  {
   "cell_type": "markdown",
   "metadata": {},
   "source": [
    "![summarizedexperiment](figures/huber2015_Fig2.jpg)"
   ]
  },
  {
   "cell_type": "markdown",
   "metadata": {},
   "source": [
    "> Its assays component is one or several rectangular arrays of equivalent row and column dimensions. Rows correspond to features, and columns to samples. The component rowData stores metadata about the features, including their genomic ranges. The colData component keeps track of sample-level covariate data. The exptData component carries experiment-level information, including MIAME (minimum information about a microarray experiment)-structured metadata<sup>21</sup>. The R expressions exemplify how to access components. For instance, provided that these metadata were recorded, `rowData(se)$entrezId` returns the NCBI Entrez Gene identifiers of the features, and `se$tissue` returns the tissue descriptions for the samples. Range-based operations, such as %in%, act on the rowData to return a logical vector that selects the features lying within the regions specified by the data object CNVs. Together with the bracket operator, such expressions can be used to subset a SummarizedExperiment to a focused set of genes and tissues for downstream analysis. - Huber 2015.\n",
    "\n",
    "<sup>21</sup>Brazma, A. et al. Minimum information about a microarray experiment (MIAME) - toward standards for microarray data. Nat. Genet. 29, 365–371 (2001)."
   ]
  },
  {
   "cell_type": "markdown",
   "metadata": {},
   "source": [
    "## SummarizedExperiment\n",
    "\n",
    "- [Huber 2015](https://www.nature.com/articles/nmeth.3252)\n",
    "- These Rdata are huge, and do not play well with other programs\n",
    "- Load times for this depend on coding for R; but I think this is still much to big\n",
    "- I don't see many advantages to this, then separate files"
   ]
  },
  {
   "cell_type": "markdown",
   "metadata": {},
   "source": [
    "## Discussion of GenomicRanges"
   ]
  },
  {
   "cell_type": "markdown",
   "metadata": {},
   "source": [
    "- [Genomic Ranges Documentation](http://bioconductor.org/packages/release/bioc/html/GenomicRanges.html)\n",
    "- [Genomic Ranges Manuscript](https://journals.plos.org/ploscompbiol/article?id=10.1371/journal.pcbi.1003118)\n",
    "- [Introduction to GenomicRanges](http://bioconductor.org/packages/release/bioc/vignettes/GenomicRanges/inst/doc/GenomicRangesIntroduction.html)\n",
    "\n",
    "> The GenomicRanges package serves as the foundation for representing genomic locations within the Bioconductor project. In the Bioconductor package hierarchy, it builds upon the IRanges (infrastructure) package and provides support for the BSgenome (infrastructure), Rsamtools (I/O), ShortRead (I/O & QA), rtracklayer (I/O), GenomicFeatures (infrastructure), GenomicAlignments (sequence reads), VariantAnnotation (called variants), and many other Bioconductor packages.\\\n",
    "> This package lays a foundation for genomic analysis by introducing three classes (GRanges, GPos, and GRangesList), which are used to represent genomic ranges, genomic positions, and groups of genomic ranges. This vignette focuses on the GRanges and GRangesList classes and their associated methods."
   ]
  },
  {
   "cell_type": "markdown",
   "metadata": {},
   "source": [
    "## rtracklayer - R interface to genome annotation files and the UCSC genome browser"
   ]
  },
  {
   "cell_type": "markdown",
   "metadata": {},
   "source": [
    "- [rtracklayer Documentation](http://bioconductor.org/packages/release/bioc/html/rtracklayer.html)\n",
    "- [rtracklayer Vignette](http://bioconductor.org/packages/release/bioc/vignettes/rtracklayer/inst/doc/rtracklayer.pdf)\n",
    "- [BED file format info](https://genome.ucsc.edu/FAQ/FAQformat.html#format1)\n",
    "- [GTF file format info](https://useast.ensembl.org/info/website/upload/gff.html)"
   ]
  },
  {
   "cell_type": "markdown",
   "metadata": {},
   "source": [
    "### Get a GRanges object to work with"
   ]
  },
  {
   "cell_type": "code",
   "execution_count": 1,
   "metadata": {},
   "outputs": [
    {
     "name": "stderr",
     "output_type": "stream",
     "text": [
      "Loading required package: GenomicRanges\n",
      "\n",
      "Loading required package: stats4\n",
      "\n",
      "Loading required package: BiocGenerics\n",
      "\n",
      "Loading required package: parallel\n",
      "\n",
      "\n",
      "Attaching package: ‘BiocGenerics’\n",
      "\n",
      "\n",
      "The following objects are masked from ‘package:parallel’:\n",
      "\n",
      "    clusterApply, clusterApplyLB, clusterCall, clusterEvalQ,\n",
      "    clusterExport, clusterMap, parApply, parCapply, parLapply,\n",
      "    parLapplyLB, parRapply, parSapply, parSapplyLB\n",
      "\n",
      "\n",
      "The following objects are masked from ‘package:stats’:\n",
      "\n",
      "    IQR, mad, sd, var, xtabs\n",
      "\n",
      "\n",
      "The following objects are masked from ‘package:base’:\n",
      "\n",
      "    anyDuplicated, append, as.data.frame, basename, cbind, colnames,\n",
      "    dirname, do.call, duplicated, eval, evalq, Filter, Find, get, grep,\n",
      "    grepl, intersect, is.unsorted, lapply, Map, mapply, match, mget,\n",
      "    order, paste, pmax, pmax.int, pmin, pmin.int, Position, rank,\n",
      "    rbind, Reduce, rownames, sapply, setdiff, sort, table, tapply,\n",
      "    union, unique, unsplit, which, which.max, which.min\n",
      "\n",
      "\n",
      "Loading required package: S4Vectors\n",
      "\n",
      "\n",
      "Attaching package: ‘S4Vectors’\n",
      "\n",
      "\n",
      "The following object is masked from ‘package:base’:\n",
      "\n",
      "    expand.grid\n",
      "\n",
      "\n",
      "Loading required package: IRanges\n",
      "\n",
      "Loading required package: GenomeInfoDb\n",
      "\n"
     ]
    },
    {
     "data": {
      "text/plain": [
       "GRanges object with 63856 ranges and 10 metadata columns:\n",
       "            seqnames            ranges strand |   source     type     score\n",
       "               <Rle>         <IRanges>  <Rle> | <factor> <factor> <numeric>\n",
       "      [1] GL000009.2       56140-58376      - |  ENSEMBL     gene      2237\n",
       "      [2] GL000194.1      53590-115018      - |  ENSEMBL     gene      2179\n",
       "      [3] GL000194.1      53594-115055      - |  ENSEMBL     gene      1599\n",
       "      [4] GL000195.1       37434-37534      - |  ENSEMBL     gene       101\n",
       "      [5] GL000195.1       42939-49164      - |  ENSEMBL     gene      2195\n",
       "      ...        ...               ...    ... .      ...      ...       ...\n",
       "  [63852]       chrY 57184101-57197337      + |   HAVANA     gene      2504\n",
       "  [63853]       chrY 57201143-57203357      - |   HAVANA     gene      1054\n",
       "  [63854]       chrY 57190738-57208756      + |   HAVANA     gene       773\n",
       "  [63855]       chrY 57207346-57212230      + |   HAVANA     gene      4618\n",
       "  [63856]       chrY 57212184-57214397      - |   HAVANA     gene      1306\n",
       "              phase                  gene_id                          gene_type\n",
       "          <integer>              <character>                        <character>\n",
       "      [1]      <NA>        ENSG00000278704.1                     protein_coding\n",
       "      [2]      <NA>        ENSG00000277400.1                     protein_coding\n",
       "      [3]      <NA>        ENSG00000274847.1                     protein_coding\n",
       "      [4]      <NA>        ENSG00000277428.1                           misc_RNA\n",
       "      [5]      <NA>        ENSG00000276256.1                     protein_coding\n",
       "      ...       ...                      ...                                ...\n",
       "  [63852]      <NA> ENSG00000124334.17_PAR_Y                     protein_coding\n",
       "  [63853]      <NA> ENSG00000185203.12_PAR_Y                          antisense\n",
       "  [63854]      <NA>  ENSG00000270726.6_PAR_Y               processed_transcript\n",
       "  [63855]      <NA> ENSG00000182484.15_PAR_Y transcribed_unprocessed_pseudogene\n",
       "  [63856]      <NA>  ENSG00000227159.8_PAR_Y             unprocessed_pseudogene\n",
       "            gene_name       level          havana_gene         tag\n",
       "          <character> <character>          <character> <character>\n",
       "      [1]  BX004987.1           3                 <NA>        <NA>\n",
       "      [2]  AC145212.2           3                 <NA>        <NA>\n",
       "      [3]  AC145212.1           3                 <NA>        <NA>\n",
       "      [4]       Y_RNA           3                 <NA>        <NA>\n",
       "      [5]  AC011043.1           3                 <NA>        <NA>\n",
       "      ...         ...         ...                  ...         ...\n",
       "  [63852]        IL9R           2 OTTHUMG00000022720.1         PAR\n",
       "  [63853]      WASIR1           2 OTTHUMG00000022676.3         PAR\n",
       "  [63854] AJ271736.10           2 OTTHUMG00000184987.2         PAR\n",
       "  [63855]      WASH6P           2 OTTHUMG00000022677.5         PAR\n",
       "  [63856]    DDX11L16           2 OTTHUMG00000022678.1         PAR\n",
       "  -------\n",
       "  seqinfo: 374 sequences from an unspecified genome; no seqlengths"
      ]
     },
     "metadata": {},
     "output_type": "display_data"
    }
   ],
   "source": [
    "library(\"rtracklayer\")\n",
    "genes_gencode_v26 <- rtracklayer::import( ## read data from a website\n",
    "    paste0(\n",
    "        \"http://snaptron.cs.jhu.edu/data/\", \n",
    "        \"temp/recount3/human/annotations/\",\n",
    "        \"gene_sums/human.gene_sums.G026.gtf.gz\"\n",
    "    )\n",
    ")\n",
    "genes_gencode_v26"
   ]
  },
  {
   "cell_type": "markdown",
   "metadata": {},
   "source": [
    "### Create a query region of interest"
   ]
  },
  {
   "cell_type": "code",
   "execution_count": 2,
   "metadata": {},
   "outputs": [
    {
     "data": {
      "text/plain": [
       "GRanges object with 1 range and 0 metadata columns:\n",
       "      seqnames            ranges strand\n",
       "         <Rle>         <IRanges>  <Rle>\n",
       "  [1]    chr21 10000000-10200000      +\n",
       "  -------\n",
       "  seqinfo: 1 sequence from an unspecified genome; no seqlengths"
      ]
     },
     "metadata": {},
     "output_type": "display_data"
    }
   ],
   "source": [
    "query <- GenomicRanges::GRanges(\"chr21:10000000-10200000:+\")\n",
    "query"
   ]
  },
  {
   "cell_type": "markdown",
   "metadata": {},
   "source": [
    "### Check which genes overlap our query region"
   ]
  },
  {
   "cell_type": "code",
   "execution_count": 3,
   "metadata": {},
   "outputs": [
    {
     "data": {
      "text/plain": [
       "Hits object with 2 hits and 0 metadata columns:\n",
       "      queryHits subjectHits\n",
       "      <integer>   <integer>\n",
       "  [1]         1       40078\n",
       "  [2]         1       40079\n",
       "  -------\n",
       "  queryLength: 1 / subjectLength: 63856"
      ]
     },
     "metadata": {},
     "output_type": "display_data"
    }
   ],
   "source": [
    "findOverlaps(query, genes_gencode_v26)"
   ]
  },
  {
   "cell_type": "markdown",
   "metadata": {},
   "source": [
    "### What happens if we ignore the strands?"
   ]
  },
  {
   "cell_type": "code",
   "execution_count": 4,
   "metadata": {},
   "outputs": [
    {
     "data": {
      "text/plain": [
       "Hits object with 4 hits and 0 metadata columns:\n",
       "      queryHits subjectHits\n",
       "      <integer>   <integer>\n",
       "  [1]         1       40076\n",
       "  [2]         1       40077\n",
       "  [3]         1       40078\n",
       "  [4]         1       40079\n",
       "  -------\n",
       "  queryLength: 1 / subjectLength: 63856"
      ]
     },
     "metadata": {},
     "output_type": "display_data"
    }
   ],
   "source": [
    "findOverlaps(query, genes_gencode_v26, ignore.strand = TRUE) # default of ignore.strand is FALSE"
   ]
  },
  {
   "cell_type": "markdown",
   "metadata": {},
   "source": [
    "### Find the genes that overlap our query region"
   ]
  },
  {
   "cell_type": "code",
   "execution_count": 5,
   "metadata": {},
   "outputs": [
    {
     "data": {
      "text/html": [
       "<style>\n",
       ".list-inline {list-style: none; margin:0; padding: 0}\n",
       ".list-inline>li {display: inline-block}\n",
       ".list-inline>li:not(:last-child)::after {content: \"\\00b7\"; padding: 0 .5ex}\n",
       "</style>\n",
       "<ol class=list-inline><li>40076</li><li>40077</li><li>40078</li><li>40079</li></ol>\n"
      ],
      "text/latex": [
       "\\begin{enumerate*}\n",
       "\\item 40076\n",
       "\\item 40077\n",
       "\\item 40078\n",
       "\\item 40079\n",
       "\\end{enumerate*}\n"
      ],
      "text/markdown": [
       "1. 40076\n",
       "2. 40077\n",
       "3. 40078\n",
       "4. 40079\n",
       "\n",
       "\n"
      ],
      "text/plain": [
       "[1] 40076 40077 40078 40079"
      ]
     },
     "metadata": {},
     "output_type": "display_data"
    }
   ],
   "source": [
    "subjectHits(findOverlaps(query, genes_gencode_v26, ignore.strand = TRUE))"
   ]
  },
  {
   "cell_type": "markdown",
   "metadata": {},
   "source": [
    "### Inspect them in more detail"
   ]
  },
  {
   "cell_type": "code",
   "execution_count": 6,
   "metadata": {},
   "outputs": [
    {
     "data": {
      "text/plain": [
       "GRanges object with 4 ranges and 10 metadata columns:\n",
       "      seqnames            ranges strand |   source     type     score     phase\n",
       "         <Rle>         <IRanges>  <Rle> | <factor> <factor> <numeric> <integer>\n",
       "  [1]    chr21 10028361-10029855      - |   HAVANA     gene      1495      <NA>\n",
       "  [2]    chr21  9975017-10119309      - |   HAVANA     gene      1856      <NA>\n",
       "  [3]    chr21 10122273-10129029      + |   HAVANA     gene      1942      <NA>\n",
       "  [4]    chr21 10136419-10137004      + |   HAVANA     gene       586      <NA>\n",
       "                gene_id                        gene_type      gene_name\n",
       "            <character>                      <character>    <character>\n",
       "  [1] ENSG00000280372.1                              TEC   bP-21201H5.2\n",
       "  [2] ENSG00000270533.2 transcribed_processed_pseudogene   bP-21201H5.1\n",
       "  [3] ENSG00000279851.2                          lincRNA CH507-216K13.2\n",
       "  [4] ENSG00000279062.1           unprocessed_pseudogene CH507-216K13.1\n",
       "            level          havana_gene            tag\n",
       "      <character>          <character>    <character>\n",
       "  [1]           2 OTTHUMG00000189483.1           <NA>\n",
       "  [2]           1 OTTHUMG00000184872.2 pseudo_consens\n",
       "  [3]           2 OTTHUMG00000189484.2           <NA>\n",
       "  [4]           2 OTTHUMG00000189485.1           <NA>\n",
       "  -------\n",
       "  seqinfo: 374 sequences from an unspecified genome; no seqlengths"
      ]
     },
     "metadata": {},
     "output_type": "display_data"
    }
   ],
   "source": [
    "genes_gencode_v26[subjectHits(findOverlaps(query, genes_gencode_v26, ignore.strand = TRUE))]"
   ]
  },
  {
   "cell_type": "markdown",
   "metadata": {},
   "source": [
    "### Globally, how many genes overlap each other?"
   ]
  },
  {
   "cell_type": "code",
   "execution_count": 7,
   "metadata": {},
   "outputs": [
    {
     "data": {
      "text/plain": [
       "   Min. 1st Qu.  Median    Mean 3rd Qu.    Max. \n",
       "   1.00    1.00    1.00    1.38    2.00   95.00 "
      ]
     },
     "metadata": {},
     "output_type": "display_data"
    }
   ],
   "source": [
    "summary(countOverlaps(genes_gencode_v26))"
   ]
  },
  {
   "cell_type": "markdown",
   "metadata": {},
   "source": [
    "### And if we ignore the strand?"
   ]
  },
  {
   "cell_type": "code",
   "execution_count": 8,
   "metadata": {},
   "outputs": [
    {
     "data": {
      "text/plain": [
       "   Min. 1st Qu.  Median    Mean 3rd Qu.    Max. \n",
       "  1.000   1.000   2.000   1.944   2.000 100.000 "
      ]
     },
     "metadata": {},
     "output_type": "display_data"
    }
   ],
   "source": [
    "summary(countOverlaps(genes_gencode_v26, ignore.strand = TRUE))"
   ]
  },
  {
   "cell_type": "markdown",
   "metadata": {},
   "source": [
    "### What if we ask for at least 100 bp of overlap?"
   ]
  },
  {
   "cell_type": "code",
   "execution_count": 9,
   "metadata": {},
   "outputs": [
    {
     "data": {
      "text/plain": [
       "   Min. 1st Qu.  Median    Mean 3rd Qu.    Max. \n",
       "  0.000   1.000   2.000   1.794   2.000  34.000 "
      ]
     },
     "metadata": {},
     "output_type": "display_data"
    },
    {
     "data": {
      "text/plain": [
       "\n",
       "    0     1     2     3     4     5     6     7     8     9    10    11    12 \n",
       " 3138 27442 22716  6373  2136   948   467   242   116    72    37    32    23 \n",
       "   13    14    15    16    17    18    20    21    22    23    25    26    27 \n",
       "   14     9    11     8    10     7    11     7    12     2     2     1    15 \n",
       "   28    34 \n",
       "    4     1 "
      ]
     },
     "metadata": {},
     "output_type": "display_data"
    }
   ],
   "source": [
    "summary(countOverlaps(genes_gencode_v26, ignore.strand = TRUE, minoverlap = 100))\n",
    "table(countOverlaps(genes_gencode_v26, ignore.strand = TRUE, minoverlap = 100))"
   ]
  },
  {
   "cell_type": "markdown",
   "metadata": {},
   "source": [
    "### Question about combining subjectHits and genes_gencdoe_v26"
   ]
  },
  {
   "cell_type": "code",
   "execution_count": 10,
   "metadata": {},
   "outputs": [],
   "source": [
    "test <- genes_gencode_v26[subjectHits(findOverlaps(query, genes_gencode_v26, ignore.strand = TRUE))]\n",
    "# pieces <- disjoint(c(query, test)); not sure if this works, but maybe? Seems faster to use bedtools"
   ]
  },
  {
   "cell_type": "markdown",
   "metadata": {},
   "source": [
    "## Lets build our first SummarizedExperiment object"
   ]
  },
  {
   "cell_type": "code",
   "execution_count": 11,
   "metadata": {},
   "outputs": [
    {
     "name": "stderr",
     "output_type": "stream",
     "text": [
      "Loading required package: Biobase\n",
      "\n",
      "Welcome to Bioconductor\n",
      "\n",
      "    Vignettes contain introductory material; view with\n",
      "    'browseVignettes()'. To cite Bioconductor, see\n",
      "    'citation(\"Biobase\")', and for packages 'citation(\"pkgname\")'.\n",
      "\n",
      "\n",
      "Loading required package: DelayedArray\n",
      "\n",
      "Loading required package: matrixStats\n",
      "\n",
      "\n",
      "Attaching package: ‘matrixStats’\n",
      "\n",
      "\n",
      "The following objects are masked from ‘package:Biobase’:\n",
      "\n",
      "    anyMissing, rowMedians\n",
      "\n",
      "\n",
      "\n",
      "Attaching package: ‘DelayedArray’\n",
      "\n",
      "\n",
      "The following objects are masked from ‘package:matrixStats’:\n",
      "\n",
      "    colMaxs, colMins, colRanges, rowMaxs, rowMins, rowRanges\n",
      "\n",
      "\n",
      "The following objects are masked from ‘package:base’:\n",
      "\n",
      "    aperm, apply, rowsum\n",
      "\n",
      "\n"
     ]
    },
    {
     "data": {
      "text/html": [
       "\n",
       "<table width=\"100%\" summary=\"page for RangedSummarizedExperiment-class {SummarizedExperiment}\"><tr><td>RangedSummarizedExperiment-class {SummarizedExperiment}</td><td style=\"text-align: right;\">R Documentation</td></tr></table>\n",
       "\n",
       "<h2>RangedSummarizedExperiment objects</h2>\n",
       "\n",
       "<h3>Description</h3>\n",
       "\n",
       "<p>The RangedSummarizedExperiment class is a matrix-like container where rows\n",
       "represent ranges of interest (as a GRanges or GRangesList\n",
       "object) and columns represent samples (with sample data summarized as a\n",
       "DataFrame). A RangedSummarizedExperiment contains one or more\n",
       "assays, each represented by a matrix-like object of numeric or other mode.\n",
       "</p>\n",
       "<p>RangedSummarizedExperiment is a subclass of SummarizedExperiment and,\n",
       "as such, all the methods documented in <code>?SummarizedExperiment</code>\n",
       "also work on a RangedSummarizedExperiment object. The methods documented\n",
       "below are additional methods that are specific to RangedSummarizedExperiment\n",
       "objects.\n",
       "</p>\n",
       "\n",
       "\n",
       "<h3>Usage</h3>\n",
       "\n",
       "<pre>\n",
       "\n",
       "## Constructor\n",
       "\n",
       "SummarizedExperiment(assays=SimpleList(),\n",
       "                     rowData=NULL, rowRanges=GRangesList(),\n",
       "                     colData=DataFrame(),\n",
       "                     metadata=list())\n",
       "\n",
       "## Accessors\n",
       "\n",
       "rowRanges(x, ...)\n",
       "rowRanges(x, ...) &lt;- value\n",
       "\n",
       "## Subsetting\n",
       "\n",
       "## S4 method for signature 'RangedSummarizedExperiment'\n",
       "subset(x, subset, select, ...)\n",
       "\n",
       "## rowRanges access\n",
       "## see 'GRanges compatibility', below\n",
       "</pre>\n",
       "\n",
       "\n",
       "<h3>Arguments</h3>\n",
       "\n",
       "<table summary=\"R argblock\">\n",
       "<tr valign=\"top\"><td><code>assays</code></td>\n",
       "<td>\n",
       "<p>A <code>list</code> or <code>SimpleList</code> of matrix-like elements,\n",
       "or a matrix-like object (e.g. an ordinary matrix, a data frame,\n",
       "a DataFrame object from the <span class=\"pkg\">S4Vectors</span> package,\n",
       "a sparseMatrix derivative from the <span class=\"pkg\">Matrix</span> package,\n",
       "a DelayedMatrix object from the <span class=\"pkg\">DelayedArray</span>\n",
       "package, etc...).\n",
       "All elements of the list must have the same dimensions, and dimension\n",
       "names (if present) must be consistent across elements and with the row\n",
       "names of <code>rowRanges</code> and <code>colData</code>.</p>\n",
       "</td></tr>\n",
       "<tr valign=\"top\"><td><code>rowData</code></td>\n",
       "<td>\n",
       "<p>A DataFrame object describing \n",
       "the rows. Row names, if present, become the row names of the\n",
       "SummarizedExperiment object. The number of rows of the\n",
       "DataFrame must equal the number of rows of the\n",
       "matrices in <code>assays</code>.</p>\n",
       "</td></tr>\n",
       "<tr valign=\"top\"><td><code>rowRanges</code></td>\n",
       "<td>\n",
       "<p>A GRanges or\n",
       "GRangesList object describing the ranges of\n",
       "interest. Names, if present, become the row names of the\n",
       "SummarizedExperiment object. The length of the\n",
       "GRanges or GRangesList\n",
       "must equal the number of rows of the matrices in <code>assays</code>.\n",
       "If <code>rowRanges</code> is missing, a SummarizedExperiment\n",
       "instance is returned.</p>\n",
       "</td></tr>\n",
       "<tr valign=\"top\"><td><code>colData</code></td>\n",
       "<td>\n",
       "<p>An optional DataFrame describing the\n",
       "samples. Row names, if present, become the column names of the\n",
       "RangedSummarizedExperiment.</p>\n",
       "</td></tr>\n",
       "<tr valign=\"top\"><td><code>metadata</code></td>\n",
       "<td>\n",
       "<p>An optional <code>list</code> of arbitrary content\n",
       "describing the overall experiment.</p>\n",
       "</td></tr>\n",
       "<tr valign=\"top\"><td><code>x</code></td>\n",
       "<td>\n",
       "<p>A RangedSummarizedExperiment object. The <code>rowRanges</code> setter\n",
       "will also accept a SummarizedExperiment object and will first\n",
       "coerce it to RangedSummarizedExperiment before it sets <code>value</code> on\n",
       "it.</p>\n",
       "</td></tr>\n",
       "<tr valign=\"top\"><td><code>...</code></td>\n",
       "<td>\n",
       "<p>Further arguments to be passed to or from other methods.</p>\n",
       "</td></tr>\n",
       "<tr valign=\"top\"><td><code>value</code></td>\n",
       "<td>\n",
       "<p>A GRanges or\n",
       "GRangesList object.</p>\n",
       "</td></tr>\n",
       "<tr valign=\"top\"><td><code>subset</code></td>\n",
       "<td>\n",
       "<p>An expression which, when evaluated in the\n",
       "context of <code>rowRanges(x)</code>, is a logical vector indicating\n",
       "elements or rows to keep: missing values are taken as false.</p>\n",
       "</td></tr>\n",
       "<tr valign=\"top\"><td><code>select</code></td>\n",
       "<td>\n",
       "<p>An expression which, when evaluated in the\n",
       "context of <code>colData(x)</code>, is a logical vector indicating\n",
       "elements or rows to keep: missing values are taken as false.</p>\n",
       "</td></tr>\n",
       "</table>\n",
       "\n",
       "\n",
       "<h3>Details</h3>\n",
       "\n",
       "<p>The rows of a RangedSummarizedExperiment object represent ranges\n",
       "(in genomic coordinates) of interest. The ranges of interest are\n",
       "described by a GRanges or a GRangesList object, accessible\n",
       "using the <code>rowRanges</code> function, described below. The GRanges\n",
       "and GRangesList classes contains sequence (e.g., chromosome) name,\n",
       "genomic coordinates, and strand information. Each range can be\n",
       "annotated with additional data; this data might be used to describe\n",
       "the range or to summarize results (e.g., statistics of differential\n",
       "abundance) relevant to the range. Rows may or may not have row names;\n",
       "they often will not.\n",
       "</p>\n",
       "\n",
       "\n",
       "<h3>Constructor</h3>\n",
       "\n",
       "<p>RangedSummarizedExperiment instances are constructed using the\n",
       "<code>SummarizedExperiment</code> function with arguments outlined above.\n",
       "</p>\n",
       "\n",
       "\n",
       "<h3>Accessors</h3>\n",
       "\n",
       "<p>In the following code snippets, <code>x</code> is a RangedSummarizedExperiment\n",
       "object.\n",
       "</p>\n",
       "\n",
       "<dl>\n",
       "<dt><code>rowRanges(x)</code>, <code>rowRanges(x) &lt;- value</code>:</dt><dd><p>Get or set the\n",
       "row data. <code>value</code> is a <code>GenomicRanges</code> object. Row\n",
       "names of <code>value</code> must be NULL or consistent with the existing\n",
       "row names of <code>x</code>.</p>\n",
       "</dd>\n",
       "</dl>\n",
       "\n",
       "\n",
       "\n",
       "<h3>GRanges compatibility (rowRanges access)</h3>\n",
       "\n",
       "<p>Many GRanges and GRangesList operations are supported on\n",
       "RangedSummarizedExperiment objects, using <code>rowRanges</code>.\n",
       "</p>\n",
       "<p>Supported operations include: <code>pcompare</code>,\n",
       "<code>duplicated</code>, <code>end</code>, <code>end&lt;-</code>, \n",
       "<code>granges</code>, <code>is.unsorted</code>, <code>match</code>,\n",
       "<code>mcols</code>, <code>mcols&lt;-</code>, <code>order</code>,\n",
       "<code>ranges</code>, <code>ranges&lt;-</code>, <code>rank</code>,\n",
       "<code>seqinfo</code>, <code>seqinfo&lt;-</code>, <code>seqnames</code>,\n",
       "<code>sort</code>, <code>start</code>, <code>start&lt;-</code>,\n",
       "<code>strand</code>, <code>strand&lt;-</code>,\n",
       "<code>width</code>, <code>width&lt;-</code>.\n",
       "</p>\n",
       "<p>See also <code>?shift</code>,\n",
       "<code>?isDisjoint</code>,\n",
       "<code>?coverage</code>,\n",
       "<code>?findOverlaps</code>, and\n",
       "<code>?nearest</code> for more\n",
       "<em>GRanges compatibility methods</em>.\n",
       "</p>\n",
       "<p>Not all GRanges operations are supported, because\n",
       "they do not make sense for RangedSummarizedExperiment objects\n",
       "(e.g., length, name, as.data.frame, c, splitAsList), involve\n",
       "non-trivial combination or splitting of rows (e.g., disjoin, gaps,\n",
       "reduce, unique), or have not yet been implemented (Ops, map, window,\n",
       "window&lt;-).\n",
       "</p>\n",
       "\n",
       "\n",
       "<h3>Subsetting</h3>\n",
       "\n",
       "<p>In the code snippets below, <code>x</code> is a RangedSummarizedExperiment\n",
       "object.\n",
       "</p>\n",
       "\n",
       "<dl>\n",
       "<dt><code>subset(x, subset, select)</code>:</dt><dd><p>Create a subset of <code>x</code>\n",
       "using an expression <code>subset</code> referring to columns of\n",
       "<code>rowRanges(x)</code> (including &lsquo;seqnames&rsquo;, &lsquo;start&rsquo;,\n",
       "&lsquo;end&rsquo;, &lsquo;width&rsquo;, &lsquo;strand&rsquo;, and\n",
       "<code>names(rowData(x))</code>) and / or <code>select</code> referring to\n",
       "column names of <code>colData(x)</code>.</p>\n",
       "</dd>\n",
       "</dl>\n",
       "\n",
       "\n",
       "\n",
       "<h3>Extension</h3>\n",
       "\n",
       "<p>RangedSummarizedExperiment is implemented as an S4 class, and can be\n",
       "extended in the usual way, using <code>contains=\"RangedSummarizedExperiment\"</code>\n",
       "in the new class definition.\n",
       "</p>\n",
       "\n",
       "\n",
       "<h3>Author(s)</h3>\n",
       "\n",
       "<p>Martin Morgan, <a href=\"mtmorgan@fhcrc.org\">mtmorgan@fhcrc.org</a></p>\n",
       "\n",
       "\n",
       "<h3>See Also</h3>\n",
       "\n",
       "\n",
       "<ul>\n",
       "<li> <p>SummarizedExperiment-class\n",
       "</p>\n",
       "</li>\n",
       "<li> <p>shift,\n",
       "isDisjoint,\n",
       "coverage,\n",
       "findOverlaps, and\n",
       "nearest for more\n",
       "<em>GRanges compatibility methods</em>.\n",
       "</p>\n",
       "</li>\n",
       "<li> <p>GRanges objects in the <span class=\"pkg\">GenomicRanges</span>\n",
       "package.\n",
       "</p>\n",
       "</li></ul>\n",
       "\n",
       "\n",
       "\n",
       "<h3>Examples</h3>\n",
       "\n",
       "<pre>\n",
       "nrows &lt;- 200; ncols &lt;- 6\n",
       "counts &lt;- matrix(runif(nrows * ncols, 1, 1e4), nrows)\n",
       "rowRanges &lt;- GRanges(rep(c(\"chr1\", \"chr2\"), c(50, 150)),\n",
       "                     IRanges(floor(runif(200, 1e5, 1e6)), width=100),\n",
       "                     strand=sample(c(\"+\", \"-\"), 200, TRUE),\n",
       "                     feature_id=sprintf(\"ID%03d\", 1:200))\n",
       "colData &lt;- DataFrame(Treatment=rep(c(\"ChIP\", \"Input\"), 3),\n",
       "                     row.names=LETTERS[1:6])\n",
       "rse &lt;- SummarizedExperiment(assays=SimpleList(counts=counts),\n",
       "                            rowRanges=rowRanges, colData=colData)\n",
       "rse\n",
       "dim(rse)\n",
       "dimnames(rse)\n",
       "assayNames(rse)\n",
       "head(assay(rse))\n",
       "assays(rse) &lt;- endoapply(assays(rse), asinh)\n",
       "head(assay(rse))\n",
       "\n",
       "rowRanges(rse)\n",
       "rowData(rse)  # same as 'mcols(rowRanges(rse))'\n",
       "colData(rse)\n",
       "\n",
       "rse[ , rse$Treatment == \"ChIP\"]\n",
       "\n",
       "## cbind() combines objects with the same ranges but different samples:\n",
       "rse1 &lt;- rse\n",
       "rse2 &lt;- rse1[ , 1:3]\n",
       "colnames(rse2) &lt;- letters[1:ncol(rse2)] \n",
       "cmb1 &lt;- cbind(rse1, rse2)\n",
       "dim(cmb1)\n",
       "dimnames(cmb1)\n",
       "\n",
       "## rbind() combines objects with the same samples but different ranges:\n",
       "rse1 &lt;- rse\n",
       "rse2 &lt;- rse1[1:50, ]\n",
       "rownames(rse2) &lt;- letters[1:nrow(rse2)] \n",
       "cmb2 &lt;- rbind(rse1, rse2)\n",
       "dim(cmb2)\n",
       "dimnames(cmb2)\n",
       "\n",
       "## Coercion to/from SummarizedExperiment:\n",
       "se0 &lt;- as(rse, \"SummarizedExperiment\")\n",
       "se0\n",
       "\n",
       "as(se0, \"RangedSummarizedExperiment\")\n",
       "\n",
       "## Setting rowRanges on a SummarizedExperiment object turns it into a\n",
       "## RangedSummarizedExperiment object:\n",
       "se &lt;- se0\n",
       "rowRanges(se) &lt;- rowRanges\n",
       "se  # RangedSummarizedExperiment\n",
       "\n",
       "## Sanity checks:\n",
       "stopifnot(identical(assays(se0), assays(rse)))\n",
       "stopifnot(identical(dim(se0), dim(rse)))\n",
       "stopifnot(identical(dimnames(se0), dimnames(rse)))\n",
       "stopifnot(identical(rowData(se0), rowData(rse)))\n",
       "stopifnot(identical(colData(se0), colData(rse)))\n",
       "</pre>\n",
       "\n",
       "<hr /><div style=\"text-align: center;\">[Package <em>SummarizedExperiment</em> version 1.18.1 ]</div>"
      ],
      "text/latex": [
       "\\inputencoding{utf8}\n",
       "\\HeaderA{RangedSummarizedExperiment-class}{RangedSummarizedExperiment objects}{RangedSummarizedExperiment.Rdash.class}\n",
       "\\aliasA{class:RangedSummarizedExperiment}{RangedSummarizedExperiment-class}{class:RangedSummarizedExperiment}\n",
       "\\aliasA{coerce,RangedSummarizedExperiment,SummarizedExperiment-method}{RangedSummarizedExperiment-class}{coerce,RangedSummarizedExperiment,SummarizedExperiment.Rdash.method}\n",
       "\\aliasA{coerce,SummarizedExperiment,RangedSummarizedExperiment-method}{RangedSummarizedExperiment-class}{coerce,SummarizedExperiment,RangedSummarizedExperiment.Rdash.method}\n",
       "\\aliasA{Compare,ANY,RangedSummarizedExperiment-method}{RangedSummarizedExperiment-class}{Compare,ANY,RangedSummarizedExperiment.Rdash.method}\n",
       "\\aliasA{Compare,RangedSummarizedExperiment,ANY-method}{RangedSummarizedExperiment-class}{Compare,RangedSummarizedExperiment,ANY.Rdash.method}\n",
       "\\aliasA{Compare,RangedSummarizedExperiment,RangedSummarizedExperiment-method}{RangedSummarizedExperiment-class}{Compare,RangedSummarizedExperiment,RangedSummarizedExperiment.Rdash.method}\n",
       "\\aliasA{dimnames,RangedSummarizedExperiment-method}{RangedSummarizedExperiment-class}{dimnames,RangedSummarizedExperiment.Rdash.method}\n",
       "\\aliasA{dimnames<\\Rdash{},RangedSummarizedExperiment,list-method}{RangedSummarizedExperiment-class}{dimnames<.Rdash.,RangedSummarizedExperiment,list.Rdash.method}\n",
       "\\aliasA{duplicated,RangedSummarizedExperiment-method}{RangedSummarizedExperiment-class}{duplicated,RangedSummarizedExperiment.Rdash.method}\n",
       "\\aliasA{elementMetadata,RangedSummarizedExperiment-method}{RangedSummarizedExperiment-class}{elementMetadata,RangedSummarizedExperiment.Rdash.method}\n",
       "\\aliasA{elementMetadata<\\Rdash{},RangedSummarizedExperiment-method}{RangedSummarizedExperiment-class}{elementMetadata<.Rdash.,RangedSummarizedExperiment.Rdash.method}\n",
       "\\aliasA{end,RangedSummarizedExperiment-method}{RangedSummarizedExperiment-class}{end,RangedSummarizedExperiment.Rdash.method}\n",
       "\\aliasA{end<\\Rdash{},RangedSummarizedExperiment-method}{RangedSummarizedExperiment-class}{end<.Rdash.,RangedSummarizedExperiment.Rdash.method}\n",
       "\\aliasA{granges,RangedSummarizedExperiment-method}{RangedSummarizedExperiment-class}{granges,RangedSummarizedExperiment.Rdash.method}\n",
       "\\aliasA{is.unsorted,RangedSummarizedExperiment-method}{RangedSummarizedExperiment-class}{is.unsorted,RangedSummarizedExperiment.Rdash.method}\n",
       "\\aliasA{mcols,RangedSummarizedExperiment-method}{RangedSummarizedExperiment-class}{mcols,RangedSummarizedExperiment.Rdash.method}\n",
       "\\aliasA{mcols<\\Rdash{},RangedSummarizedExperiment-method}{RangedSummarizedExperiment-class}{mcols<.Rdash.,RangedSummarizedExperiment.Rdash.method}\n",
       "\\aliasA{names,RangedSummarizedExperiment-method}{RangedSummarizedExperiment-class}{names,RangedSummarizedExperiment.Rdash.method}\n",
       "\\aliasA{names<\\Rdash{},RangedSummarizedExperiment-method}{RangedSummarizedExperiment-class}{names<.Rdash.,RangedSummarizedExperiment.Rdash.method}\n",
       "\\aliasA{order,RangedSummarizedExperiment-method}{RangedSummarizedExperiment-class}{order,RangedSummarizedExperiment.Rdash.method}\n",
       "\\aliasA{pcompare,ANY,RangedSummarizedExperiment-method}{RangedSummarizedExperiment-class}{pcompare,ANY,RangedSummarizedExperiment.Rdash.method}\n",
       "\\aliasA{pcompare,RangedSummarizedExperiment,ANY-method}{RangedSummarizedExperiment-class}{pcompare,RangedSummarizedExperiment,ANY.Rdash.method}\n",
       "\\aliasA{pcompare,RangedSummarizedExperiment,RangedSummarizedExperiment-method}{RangedSummarizedExperiment-class}{pcompare,RangedSummarizedExperiment,RangedSummarizedExperiment.Rdash.method}\n",
       "\\aliasA{RangedSummarizedExperiment}{RangedSummarizedExperiment-class}{RangedSummarizedExperiment}\n",
       "\\aliasA{ranges,RangedSummarizedExperiment-method}{RangedSummarizedExperiment-class}{ranges,RangedSummarizedExperiment.Rdash.method}\n",
       "\\aliasA{ranges<\\Rdash{},RangedSummarizedExperiment-method}{RangedSummarizedExperiment-class}{ranges<.Rdash.,RangedSummarizedExperiment.Rdash.method}\n",
       "\\aliasA{rank,RangedSummarizedExperiment-method}{RangedSummarizedExperiment-class}{rank,RangedSummarizedExperiment.Rdash.method}\n",
       "\\aliasA{rowRanges}{RangedSummarizedExperiment-class}{rowRanges}\n",
       "\\aliasA{rowRanges,RangedSummarizedExperiment-method}{RangedSummarizedExperiment-class}{rowRanges,RangedSummarizedExperiment.Rdash.method}\n",
       "\\aliasA{rowRanges,SummarizedExperiment-method}{RangedSummarizedExperiment-class}{rowRanges,SummarizedExperiment.Rdash.method}\n",
       "\\aliasA{rowRanges<\\Rdash{}}{RangedSummarizedExperiment-class}{rowRanges<.Rdash.}\n",
       "\\aliasA{rowRanges<\\Rdash{},RangedSummarizedExperiment,NULL-method}{RangedSummarizedExperiment-class}{rowRanges<.Rdash.,RangedSummarizedExperiment,NULL.Rdash.method}\n",
       "\\aliasA{rowRanges<\\Rdash{},SummarizedExperiment,GenomicRanges-method}{RangedSummarizedExperiment-class}{rowRanges<.Rdash.,SummarizedExperiment,GenomicRanges.Rdash.method}\n",
       "\\aliasA{rowRanges<\\Rdash{},SummarizedExperiment,GRangesList-method}{RangedSummarizedExperiment-class}{rowRanges<.Rdash.,SummarizedExperiment,GRangesList.Rdash.method}\n",
       "\\aliasA{rowRanges<\\Rdash{},SummarizedExperiment,NULL-method}{RangedSummarizedExperiment-class}{rowRanges<.Rdash.,SummarizedExperiment,NULL.Rdash.method}\n",
       "\\aliasA{seqinfo,RangedSummarizedExperiment-method}{RangedSummarizedExperiment-class}{seqinfo,RangedSummarizedExperiment.Rdash.method}\n",
       "\\aliasA{seqinfo<\\Rdash{},RangedSummarizedExperiment-method}{RangedSummarizedExperiment-class}{seqinfo<.Rdash.,RangedSummarizedExperiment.Rdash.method}\n",
       "\\aliasA{seqnames,RangedSummarizedExperiment-method}{RangedSummarizedExperiment-class}{seqnames,RangedSummarizedExperiment.Rdash.method}\n",
       "\\aliasA{sort,RangedSummarizedExperiment-method}{RangedSummarizedExperiment-class}{sort,RangedSummarizedExperiment.Rdash.method}\n",
       "\\aliasA{split,RangedSummarizedExperiment-method}{RangedSummarizedExperiment-class}{split,RangedSummarizedExperiment.Rdash.method}\n",
       "\\aliasA{split,RangedSummarizedExperiment,ANY-method}{RangedSummarizedExperiment-class}{split,RangedSummarizedExperiment,ANY.Rdash.method}\n",
       "\\aliasA{start,RangedSummarizedExperiment-method}{RangedSummarizedExperiment-class}{start,RangedSummarizedExperiment.Rdash.method}\n",
       "\\aliasA{start<\\Rdash{},RangedSummarizedExperiment-method}{RangedSummarizedExperiment-class}{start<.Rdash.,RangedSummarizedExperiment.Rdash.method}\n",
       "\\aliasA{strand,RangedSummarizedExperiment-method}{RangedSummarizedExperiment-class}{strand,RangedSummarizedExperiment.Rdash.method}\n",
       "\\aliasA{strand<\\Rdash{},RangedSummarizedExperiment,ANY-method}{RangedSummarizedExperiment-class}{strand<.Rdash.,RangedSummarizedExperiment,ANY.Rdash.method}\n",
       "\\aliasA{subset,RangedSummarizedExperiment-method}{RangedSummarizedExperiment-class}{subset,RangedSummarizedExperiment.Rdash.method}\n",
       "\\aliasA{SummarizedExperiment}{RangedSummarizedExperiment-class}{SummarizedExperiment}\n",
       "\\aliasA{updateObject,RangedSummarizedExperiment-method}{RangedSummarizedExperiment-class}{updateObject,RangedSummarizedExperiment.Rdash.method}\n",
       "\\aliasA{width,RangedSummarizedExperiment-method}{RangedSummarizedExperiment-class}{width,RangedSummarizedExperiment.Rdash.method}\n",
       "\\aliasA{width<\\Rdash{},RangedSummarizedExperiment-method}{RangedSummarizedExperiment-class}{width<.Rdash.,RangedSummarizedExperiment.Rdash.method}\n",
       "%\n",
       "\\begin{Description}\\relax\n",
       "\n",
       "The RangedSummarizedExperiment class is a matrix-like container where rows\n",
       "represent ranges of interest (as a \\LinkA{GRanges}{GRanges} or \\LinkA{GRangesList}{GRangesList}\n",
       "object) and columns represent samples (with sample data summarized as a\n",
       "\\LinkA{DataFrame}{DataFrame}). A RangedSummarizedExperiment contains one or more\n",
       "assays, each represented by a matrix-like object of numeric or other mode.\n",
       "\n",
       "RangedSummarizedExperiment is a subclass of \\LinkA{SummarizedExperiment}{SummarizedExperiment} and,\n",
       "as such, all the methods documented in \\code{?\\LinkA{SummarizedExperiment}{SummarizedExperiment}}\n",
       "also work on a RangedSummarizedExperiment object. The methods documented\n",
       "below are additional methods that are specific to RangedSummarizedExperiment\n",
       "objects.\n",
       "\\end{Description}\n",
       "%\n",
       "\\begin{Usage}\n",
       "\\begin{verbatim}\n",
       "\n",
       "## Constructor\n",
       "\n",
       "SummarizedExperiment(assays=SimpleList(),\n",
       "                     rowData=NULL, rowRanges=GRangesList(),\n",
       "                     colData=DataFrame(),\n",
       "                     metadata=list())\n",
       "\n",
       "## Accessors\n",
       "\n",
       "rowRanges(x, ...)\n",
       "rowRanges(x, ...) <- value\n",
       "\n",
       "## Subsetting\n",
       "\n",
       "## S4 method for signature 'RangedSummarizedExperiment'\n",
       "subset(x, subset, select, ...)\n",
       "\n",
       "## rowRanges access\n",
       "## see 'GRanges compatibility', below\n",
       "\\end{verbatim}\n",
       "\\end{Usage}\n",
       "%\n",
       "\\begin{Arguments}\n",
       "\\begin{ldescription}\n",
       "\n",
       "\\item[\\code{assays}] A \\code{list} or \\code{SimpleList} of matrix-like elements,\n",
       "or a matrix-like object (e.g. an ordinary matrix, a data frame,\n",
       "a \\LinkA{DataFrame}{DataFrame} object from the \\pkg{S4Vectors} package,\n",
       "a \\LinkA{sparseMatrix}{sparseMatrix} derivative from the \\pkg{Matrix} package,\n",
       "a \\LinkA{DelayedMatrix}{DelayedMatrix} object from the \\pkg{DelayedArray}\n",
       "package, etc...).\n",
       "All elements of the list must have the same dimensions, and dimension\n",
       "names (if present) must be consistent across elements and with the row\n",
       "names of \\code{rowRanges} and \\code{colData}.\n",
       "\n",
       "\\item[\\code{rowData}] A \\LinkA{DataFrame}{DataFrame} object describing \n",
       "the rows. Row names, if present, become the row names of the\n",
       "SummarizedExperiment object. The number of rows of the\n",
       "\\LinkA{DataFrame}{DataFrame} must equal the number of rows of the\n",
       "matrices in \\code{assays}.\n",
       "\n",
       "\\item[\\code{rowRanges}] A \\LinkA{GRanges}{GRanges} or\n",
       "\\LinkA{GRangesList}{GRangesList} object describing the ranges of\n",
       "interest. Names, if present, become the row names of the\n",
       "SummarizedExperiment object. The length of the\n",
       "\\LinkA{GRanges}{GRanges} or \\LinkA{GRangesList}{GRangesList}\n",
       "must equal the number of rows of the matrices in \\code{assays}.\n",
       "If \\code{rowRanges} is missing, a \\LinkA{SummarizedExperiment}{SummarizedExperiment}\n",
       "instance is returned.\n",
       "\n",
       "\\item[\\code{colData}] An optional \\LinkA{DataFrame}{DataFrame} describing the\n",
       "samples. Row names, if present, become the column names of the\n",
       "RangedSummarizedExperiment.\n",
       "\n",
       "\\item[\\code{metadata}] An optional \\code{list} of arbitrary content\n",
       "describing the overall experiment.\n",
       "\n",
       "\\item[\\code{x}] A RangedSummarizedExperiment object. The \\code{rowRanges} setter\n",
       "will also accept a \\LinkA{SummarizedExperiment}{SummarizedExperiment} object and will first\n",
       "coerce it to RangedSummarizedExperiment before it sets \\code{value} on\n",
       "it.\n",
       "\n",
       "\\item[\\code{...}] Further arguments to be passed to or from other methods.\n",
       "\n",
       "\\item[\\code{value}] A \\LinkA{GRanges}{GRanges} or\n",
       "\\LinkA{GRangesList}{GRangesList} object.\n",
       "\n",
       "\\item[\\code{subset}] An expression which, when evaluated in the\n",
       "context of \\code{rowRanges(x)}, is a logical vector indicating\n",
       "elements or rows to keep: missing values are taken as false.\n",
       "\n",
       "\\item[\\code{select}] An expression which, when evaluated in the\n",
       "context of \\code{colData(x)}, is a logical vector indicating\n",
       "elements or rows to keep: missing values are taken as false.\n",
       "\n",
       "\\end{ldescription}\n",
       "\\end{Arguments}\n",
       "%\n",
       "\\begin{Details}\\relax\n",
       "\n",
       "The rows of a RangedSummarizedExperiment object represent ranges\n",
       "(in genomic coordinates) of interest. The ranges of interest are\n",
       "described by a \\LinkA{GRanges}{GRanges} or a \\LinkA{GRangesList}{GRangesList} object, accessible\n",
       "using the \\code{rowRanges} function, described below. The \\LinkA{GRanges}{GRanges}\n",
       "and \\LinkA{GRangesList}{GRangesList} classes contains sequence (e.g., chromosome) name,\n",
       "genomic coordinates, and strand information. Each range can be\n",
       "annotated with additional data; this data might be used to describe\n",
       "the range or to summarize results (e.g., statistics of differential\n",
       "abundance) relevant to the range. Rows may or may not have row names;\n",
       "they often will not.\n",
       "\n",
       "\\end{Details}\n",
       "%\n",
       "\\begin{Section}{Constructor}\n",
       "\n",
       "RangedSummarizedExperiment instances are constructed using the\n",
       "\\code{SummarizedExperiment} function with arguments outlined above.\n",
       "\n",
       "\\end{Section}\n",
       "%\n",
       "\\begin{Section}{Accessors}\n",
       "\n",
       "In the following code snippets, \\code{x} is a RangedSummarizedExperiment\n",
       "object.\n",
       "\n",
       "\\begin{description}\n",
       "\n",
       "\n",
       "\\item[\\code{rowRanges(x)}, \\code{rowRanges(x) <- value}:] Get or set the\n",
       "row data. \\code{value} is a \\code{GenomicRanges} object. Row\n",
       "names of \\code{value} must be NULL or consistent with the existing\n",
       "row names of \\code{x}.\n",
       "\n",
       "\n",
       "\\end{description}\n",
       "\n",
       "\\end{Section}\n",
       "%\n",
       "\\begin{Section}{GRanges compatibility (rowRanges access)}\n",
       "\n",
       "Many \\LinkA{GRanges}{GRanges} and \\LinkA{GRangesList}{GRangesList} operations are supported on\n",
       "RangedSummarizedExperiment objects, using \\code{rowRanges}.\n",
       "\n",
       "Supported operations include: \\code{\\LinkA{pcompare}{pcompare}},\n",
       "\\code{\\LinkA{duplicated}{duplicated}}, \\code{\\LinkA{end}{end}}, \\code{\\LinkA{end<-}{end<.Rdash.}}, \n",
       "\\code{\\LinkA{granges}{granges}}, \\code{\\LinkA{is.unsorted}{is.unsorted}}, \\code{\\LinkA{match}{match}},\n",
       "\\code{\\LinkA{mcols}{mcols}}, \\code{\\LinkA{mcols<-}{mcols<.Rdash.}}, \\code{\\LinkA{order}{order}},\n",
       "\\code{\\LinkA{ranges}{ranges}}, \\code{\\LinkA{ranges<-}{ranges<.Rdash.}}, \\code{\\LinkA{rank}{rank}},\n",
       "\\code{\\LinkA{seqinfo}{seqinfo}}, \\code{\\LinkA{seqinfo<-}{seqinfo<.Rdash.}}, \\code{\\LinkA{seqnames}{seqnames}},\n",
       "\\code{\\LinkA{sort}{sort}}, \\code{\\LinkA{start}{start}}, \\code{\\LinkA{start<-}{start<.Rdash.}},\n",
       "\\code{\\LinkA{strand}{strand}}, \\code{\\LinkA{strand<-}{strand<.Rdash.}},\n",
       "\\code{\\LinkA{width}{width}}, \\code{\\LinkA{width<-}{width<.Rdash.}}.\n",
       "\n",
       "See also \\code{?\\LinkA{shift}{shift}},\n",
       "\\code{?\\LinkA{isDisjoint}{isDisjoint}},\n",
       "\\code{?\\LinkA{coverage}{coverage}},\n",
       "\\code{?\\LinkA{findOverlaps}{findOverlaps}}, and\n",
       "\\code{?\\LinkA{nearest}{nearest}} for more\n",
       "\\emph{GRanges compatibility methods}.\n",
       "\n",
       "Not all \\LinkA{GRanges}{GRanges} operations are supported, because\n",
       "they do not make sense for RangedSummarizedExperiment objects\n",
       "(e.g., length, name, as.data.frame, c, splitAsList), involve\n",
       "non-trivial combination or splitting of rows (e.g., disjoin, gaps,\n",
       "reduce, unique), or have not yet been implemented (Ops, map, window,\n",
       "window<-).\n",
       "\n",
       "\\end{Section}\n",
       "%\n",
       "\\begin{Section}{Subsetting}\n",
       "\n",
       "In the code snippets below, \\code{x} is a RangedSummarizedExperiment\n",
       "object.\n",
       "\n",
       "\\begin{description}\n",
       "\n",
       "\n",
       "\\item[\\code{subset(x, subset, select)}:] Create a subset of \\code{x}\n",
       "using an expression \\code{subset} referring to columns of\n",
       "\\code{rowRanges(x)} (including `seqnames', `start',\n",
       "`end', `width', `strand', and\n",
       "\\code{names(rowData(x))}) and / or \\code{select} referring to\n",
       "column names of \\code{colData(x)}.\n",
       "\n",
       "\n",
       "\\end{description}\n",
       "\n",
       "\n",
       "\\end{Section}\n",
       "%\n",
       "\\begin{Section}{Extension}\n",
       "\n",
       "RangedSummarizedExperiment is implemented as an S4 class, and can be\n",
       "extended in the usual way, using \\code{contains=\"RangedSummarizedExperiment\"}\n",
       "in the new class definition.\n",
       "\n",
       "\\end{Section}\n",
       "%\n",
       "\\begin{Author}\\relax\n",
       "Martin Morgan, \\url{mtmorgan@fhcrc.org}\n",
       "\\end{Author}\n",
       "%\n",
       "\\begin{SeeAlso}\\relax\n",
       "\\begin{itemize}\n",
       "\n",
       "\\item{} \\LinkA{SummarizedExperiment-class}{SummarizedExperiment.Rdash.class}\n",
       "\n",
       "\\item{} \\LinkA{shift}{shift},\n",
       "\\LinkA{isDisjoint}{isDisjoint},\n",
       "\\LinkA{coverage}{coverage},\n",
       "\\LinkA{findOverlaps}{findOverlaps}, and\n",
       "\\LinkA{nearest}{nearest} for more\n",
       "\\emph{GRanges compatibility methods}.\n",
       "\n",
       "\\item{} \\LinkA{GRanges}{GRanges} objects in the \\pkg{GenomicRanges}\n",
       "package.\n",
       "\n",
       "\\end{itemize}\n",
       "\n",
       "\\end{SeeAlso}\n",
       "%\n",
       "\\begin{Examples}\n",
       "\\begin{ExampleCode}\n",
       "nrows <- 200; ncols <- 6\n",
       "counts <- matrix(runif(nrows * ncols, 1, 1e4), nrows)\n",
       "rowRanges <- GRanges(rep(c(\"chr1\", \"chr2\"), c(50, 150)),\n",
       "                     IRanges(floor(runif(200, 1e5, 1e6)), width=100),\n",
       "                     strand=sample(c(\"+\", \"-\"), 200, TRUE),\n",
       "                     feature_id=sprintf(\"ID%03d\", 1:200))\n",
       "colData <- DataFrame(Treatment=rep(c(\"ChIP\", \"Input\"), 3),\n",
       "                     row.names=LETTERS[1:6])\n",
       "rse <- SummarizedExperiment(assays=SimpleList(counts=counts),\n",
       "                            rowRanges=rowRanges, colData=colData)\n",
       "rse\n",
       "dim(rse)\n",
       "dimnames(rse)\n",
       "assayNames(rse)\n",
       "head(assay(rse))\n",
       "assays(rse) <- endoapply(assays(rse), asinh)\n",
       "head(assay(rse))\n",
       "\n",
       "rowRanges(rse)\n",
       "rowData(rse)  # same as 'mcols(rowRanges(rse))'\n",
       "colData(rse)\n",
       "\n",
       "rse[ , rse$Treatment == \"ChIP\"]\n",
       "\n",
       "## cbind() combines objects with the same ranges but different samples:\n",
       "rse1 <- rse\n",
       "rse2 <- rse1[ , 1:3]\n",
       "colnames(rse2) <- letters[1:ncol(rse2)] \n",
       "cmb1 <- cbind(rse1, rse2)\n",
       "dim(cmb1)\n",
       "dimnames(cmb1)\n",
       "\n",
       "## rbind() combines objects with the same samples but different ranges:\n",
       "rse1 <- rse\n",
       "rse2 <- rse1[1:50, ]\n",
       "rownames(rse2) <- letters[1:nrow(rse2)] \n",
       "cmb2 <- rbind(rse1, rse2)\n",
       "dim(cmb2)\n",
       "dimnames(cmb2)\n",
       "\n",
       "## Coercion to/from SummarizedExperiment:\n",
       "se0 <- as(rse, \"SummarizedExperiment\")\n",
       "se0\n",
       "\n",
       "as(se0, \"RangedSummarizedExperiment\")\n",
       "\n",
       "## Setting rowRanges on a SummarizedExperiment object turns it into a\n",
       "## RangedSummarizedExperiment object:\n",
       "se <- se0\n",
       "rowRanges(se) <- rowRanges\n",
       "se  # RangedSummarizedExperiment\n",
       "\n",
       "## Sanity checks:\n",
       "stopifnot(identical(assays(se0), assays(rse)))\n",
       "stopifnot(identical(dim(se0), dim(rse)))\n",
       "stopifnot(identical(dimnames(se0), dimnames(rse)))\n",
       "stopifnot(identical(rowData(se0), rowData(rse)))\n",
       "stopifnot(identical(colData(se0), colData(rse)))\n",
       "\\end{ExampleCode}\n",
       "\\end{Examples}"
      ],
      "text/plain": [
       "RangedSummarizedExperiment-classpackage:SummarizedExperimentR Documentation\n",
       "\n",
       "_\bR_\ba_\bn_\bg_\be_\bd_\bS_\bu_\bm_\bm_\ba_\br_\bi_\bz_\be_\bd_\bE_\bx_\bp_\be_\br_\bi_\bm_\be_\bn_\bt _\bo_\bb_\bj_\be_\bc_\bt_\bs\n",
       "\n",
       "_\bD_\be_\bs_\bc_\br_\bi_\bp_\bt_\bi_\bo_\bn:\n",
       "\n",
       "     The RangedSummarizedExperiment class is a matrix-like container\n",
       "     where rows represent ranges of interest (as a GRanges or\n",
       "     GRangesList object) and columns represent samples (with sample\n",
       "     data summarized as a DataFrame). A RangedSummarizedExperiment\n",
       "     contains one or more assays, each represented by a matrix-like\n",
       "     object of numeric or other mode.\n",
       "\n",
       "     RangedSummarizedExperiment is a subclass of SummarizedExperiment\n",
       "     and, as such, all the methods documented in\n",
       "     ‘?SummarizedExperiment’ also work on a RangedSummarizedExperiment\n",
       "     object. The methods documented below are additional methods that\n",
       "     are specific to RangedSummarizedExperiment objects.\n",
       "\n",
       "_\bU_\bs_\ba_\bg_\be:\n",
       "\n",
       "     ## Constructor\n",
       "     \n",
       "     SummarizedExperiment(assays=SimpleList(),\n",
       "                          rowData=NULL, rowRanges=GRangesList(),\n",
       "                          colData=DataFrame(),\n",
       "                          metadata=list())\n",
       "     \n",
       "     ## Accessors\n",
       "     \n",
       "     rowRanges(x, ...)\n",
       "     rowRanges(x, ...) <- value\n",
       "     \n",
       "     ## Subsetting\n",
       "     \n",
       "     ## S4 method for signature 'RangedSummarizedExperiment'\n",
       "     subset(x, subset, select, ...)\n",
       "     \n",
       "     ## rowRanges access\n",
       "     ## see 'GRanges compatibility', below\n",
       "     \n",
       "_\bA_\br_\bg_\bu_\bm_\be_\bn_\bt_\bs:\n",
       "\n",
       "  assays: A ‘list’ or ‘SimpleList’ of matrix-like elements, or a\n",
       "          matrix-like object (e.g. an ordinary matrix, a data frame, a\n",
       "          DataFrame object from the ‘S4Vectors’ package, a sparseMatrix\n",
       "          derivative from the ‘Matrix’ package, a DelayedMatrix object\n",
       "          from the ‘DelayedArray’ package, etc...).  All elements of\n",
       "          the list must have the same dimensions, and dimension names\n",
       "          (if present) must be consistent across elements and with the\n",
       "          row names of ‘rowRanges’ and ‘colData’.\n",
       "\n",
       " rowData: A DataFrame object describing the rows. Row names, if\n",
       "          present, become the row names of the SummarizedExperiment\n",
       "          object. The number of rows of the DataFrame must equal the\n",
       "          number of rows of the matrices in ‘assays’.\n",
       "\n",
       "rowRanges: A GRanges or GRangesList object describing the ranges of\n",
       "          interest. Names, if present, become the row names of the\n",
       "          SummarizedExperiment object. The length of the GRanges or\n",
       "          GRangesList must equal the number of rows of the matrices in\n",
       "          ‘assays’.  If ‘rowRanges’ is missing, a SummarizedExperiment\n",
       "          instance is returned.\n",
       "\n",
       " colData: An optional DataFrame describing the samples. Row names, if\n",
       "          present, become the column names of the\n",
       "          RangedSummarizedExperiment.\n",
       "\n",
       "metadata: An optional ‘list’ of arbitrary content describing the\n",
       "          overall experiment.\n",
       "\n",
       "       x: A RangedSummarizedExperiment object. The ‘rowRanges’ setter\n",
       "          will also accept a SummarizedExperiment object and will first\n",
       "          coerce it to RangedSummarizedExperiment before it sets\n",
       "          ‘value’ on it.\n",
       "\n",
       "     ...: Further arguments to be passed to or from other methods.\n",
       "\n",
       "   value: A GRanges or GRangesList object.\n",
       "\n",
       "  subset: An expression which, when evaluated in the context of\n",
       "          ‘rowRanges(x)’, is a logical vector indicating elements or\n",
       "          rows to keep: missing values are taken as false.\n",
       "\n",
       "  select: An expression which, when evaluated in the context of\n",
       "          ‘colData(x)’, is a logical vector indicating elements or rows\n",
       "          to keep: missing values are taken as false.\n",
       "\n",
       "_\bD_\be_\bt_\ba_\bi_\bl_\bs:\n",
       "\n",
       "     The rows of a RangedSummarizedExperiment object represent ranges\n",
       "     (in genomic coordinates) of interest. The ranges of interest are\n",
       "     described by a GRanges or a GRangesList object, accessible using\n",
       "     the ‘rowRanges’ function, described below. The GRanges and\n",
       "     GRangesList classes contains sequence (e.g., chromosome) name,\n",
       "     genomic coordinates, and strand information. Each range can be\n",
       "     annotated with additional data; this data might be used to\n",
       "     describe the range or to summarize results (e.g., statistics of\n",
       "     differential abundance) relevant to the range. Rows may or may not\n",
       "     have row names; they often will not.\n",
       "\n",
       "_\bC_\bo_\bn_\bs_\bt_\br_\bu_\bc_\bt_\bo_\br:\n",
       "\n",
       "     RangedSummarizedExperiment instances are constructed using the\n",
       "     ‘SummarizedExperiment’ function with arguments outlined above.\n",
       "\n",
       "_\bA_\bc_\bc_\be_\bs_\bs_\bo_\br_\bs:\n",
       "\n",
       "     In the following code snippets, ‘x’ is a\n",
       "     RangedSummarizedExperiment object.\n",
       "\n",
       "     ‘rowRanges(x)’, ‘rowRanges(x) <- value’: Get or set the row data.\n",
       "          ‘value’ is a ‘GenomicRanges’ object. Row names of ‘value’\n",
       "          must be NULL or consistent with the existing row names of\n",
       "          ‘x’.\n",
       "\n",
       "_\bG_\bR_\ba_\bn_\bg_\be_\bs _\bc_\bo_\bm_\bp_\ba_\bt_\bi_\bb_\bi_\bl_\bi_\bt_\by (_\br_\bo_\bw_\bR_\ba_\bn_\bg_\be_\bs _\ba_\bc_\bc_\be_\bs_\bs):\n",
       "\n",
       "     Many GRanges and GRangesList operations are supported on\n",
       "     RangedSummarizedExperiment objects, using ‘rowRanges’.\n",
       "\n",
       "     Supported operations include: ‘pcompare’, ‘duplicated’, ‘end’,\n",
       "     ‘end<-’, ‘granges’, ‘is.unsorted’, ‘match’, ‘mcols’, ‘mcols<-’,\n",
       "     ‘order’, ‘ranges’, ‘ranges<-’, ‘rank’, ‘seqinfo’, ‘seqinfo<-’,\n",
       "     ‘seqnames’, ‘sort’, ‘start’, ‘start<-’, ‘strand’, ‘strand<-’,\n",
       "     ‘width’, ‘width<-’.\n",
       "\n",
       "     See also ‘?shift’, ‘?isDisjoint’, ‘?coverage’, ‘?findOverlaps’,\n",
       "     and ‘?nearest’ for more _GRanges compatibility methods_.\n",
       "\n",
       "     Not all GRanges operations are supported, because they do not make\n",
       "     sense for RangedSummarizedExperiment objects (e.g., length, name,\n",
       "     as.data.frame, c, splitAsList), involve non-trivial combination or\n",
       "     splitting of rows (e.g., disjoin, gaps, reduce, unique), or have\n",
       "     not yet been implemented (Ops, map, window, window<-).\n",
       "\n",
       "_\bS_\bu_\bb_\bs_\be_\bt_\bt_\bi_\bn_\bg:\n",
       "\n",
       "     In the code snippets below, ‘x’ is a RangedSummarizedExperiment\n",
       "     object.\n",
       "\n",
       "     ‘subset(x, subset, select)’: Create a subset of ‘x’ using an\n",
       "          expression ‘subset’ referring to columns of ‘rowRanges(x)’\n",
       "          (including ‘seqnames’, ‘start’, ‘end’, ‘width’, ‘strand’, and\n",
       "          ‘names(rowData(x))’) and / or ‘select’ referring to column\n",
       "          names of ‘colData(x)’.\n",
       "\n",
       "_\bE_\bx_\bt_\be_\bn_\bs_\bi_\bo_\bn:\n",
       "\n",
       "     RangedSummarizedExperiment is implemented as an S4 class, and can\n",
       "     be extended in the usual way, using\n",
       "     ‘contains=\"RangedSummarizedExperiment\"’ in the new class\n",
       "     definition.\n",
       "\n",
       "_\bA_\bu_\bt_\bh_\bo_\br(_\bs):\n",
       "\n",
       "     Martin Morgan, <URL: mtmorgan@fhcrc.org>\n",
       "\n",
       "_\bS_\be_\be _\bA_\bl_\bs_\bo:\n",
       "\n",
       "        • SummarizedExperiment-class\n",
       "\n",
       "        • shift, isDisjoint, coverage, findOverlaps, and nearest for\n",
       "          more _GRanges compatibility methods_.\n",
       "\n",
       "        • GRanges objects in the ‘GenomicRanges’ package.\n",
       "\n",
       "_\bE_\bx_\ba_\bm_\bp_\bl_\be_\bs:\n",
       "\n",
       "     nrows <- 200; ncols <- 6\n",
       "     counts <- matrix(runif(nrows * ncols, 1, 1e4), nrows)\n",
       "     rowRanges <- GRanges(rep(c(\"chr1\", \"chr2\"), c(50, 150)),\n",
       "                          IRanges(floor(runif(200, 1e5, 1e6)), width=100),\n",
       "                          strand=sample(c(\"+\", \"-\"), 200, TRUE),\n",
       "                          feature_id=sprintf(\"ID%03d\", 1:200))\n",
       "     colData <- DataFrame(Treatment=rep(c(\"ChIP\", \"Input\"), 3),\n",
       "                          row.names=LETTERS[1:6])\n",
       "     rse <- SummarizedExperiment(assays=SimpleList(counts=counts),\n",
       "                                 rowRanges=rowRanges, colData=colData)\n",
       "     rse\n",
       "     dim(rse)\n",
       "     dimnames(rse)\n",
       "     assayNames(rse)\n",
       "     head(assay(rse))\n",
       "     assays(rse) <- endoapply(assays(rse), asinh)\n",
       "     head(assay(rse))\n",
       "     \n",
       "     rowRanges(rse)\n",
       "     rowData(rse)  # same as 'mcols(rowRanges(rse))'\n",
       "     colData(rse)\n",
       "     \n",
       "     rse[ , rse$Treatment == \"ChIP\"]\n",
       "     \n",
       "     ## cbind() combines objects with the same ranges but different samples:\n",
       "     rse1 <- rse\n",
       "     rse2 <- rse1[ , 1:3]\n",
       "     colnames(rse2) <- letters[1:ncol(rse2)] \n",
       "     cmb1 <- cbind(rse1, rse2)\n",
       "     dim(cmb1)\n",
       "     dimnames(cmb1)\n",
       "     \n",
       "     ## rbind() combines objects with the same samples but different ranges:\n",
       "     rse1 <- rse\n",
       "     rse2 <- rse1[1:50, ]\n",
       "     rownames(rse2) <- letters[1:nrow(rse2)] \n",
       "     cmb2 <- rbind(rse1, rse2)\n",
       "     dim(cmb2)\n",
       "     dimnames(cmb2)\n",
       "     \n",
       "     ## Coercion to/from SummarizedExperiment:\n",
       "     se0 <- as(rse, \"SummarizedExperiment\")\n",
       "     se0\n",
       "     \n",
       "     as(se0, \"RangedSummarizedExperiment\")\n",
       "     \n",
       "     ## Setting rowRanges on a SummarizedExperiment object turns it into a\n",
       "     ## RangedSummarizedExperiment object:\n",
       "     se <- se0\n",
       "     rowRanges(se) <- rowRanges\n",
       "     se  # RangedSummarizedExperiment\n",
       "     \n",
       "     ## Sanity checks:\n",
       "     stopifnot(identical(assays(se0), assays(rse)))\n",
       "     stopifnot(identical(dim(se0), dim(rse)))\n",
       "     stopifnot(identical(dimnames(se0), dimnames(rse)))\n",
       "     stopifnot(identical(rowData(se0), rowData(rse)))\n",
       "     stopifnot(identical(colData(se0), colData(rse)))\n",
       "     "
      ]
     },
     "metadata": {},
     "output_type": "display_data"
    }
   ],
   "source": [
    "library(\"SummarizedExperiment\")\n",
    "?SummarizedExperiment"
   ]
  },
  {
   "cell_type": "markdown",
   "metadata": {},
   "source": [
    "### From the example page:"
   ]
  },
  {
   "cell_type": "code",
   "execution_count": 12,
   "metadata": {},
   "outputs": [
    {
     "data": {
      "text/plain": [
       "class: RangedSummarizedExperiment \n",
       "dim: 200 6 \n",
       "metadata(0):\n",
       "assays(1): counts\n",
       "rownames: NULL\n",
       "rowData names(1): feature_id\n",
       "colnames(6): A B ... E F\n",
       "colData names(1): Treatment"
      ]
     },
     "metadata": {},
     "output_type": "display_data"
    },
    {
     "data": {
      "text/html": [
       "<style>\n",
       ".list-inline {list-style: none; margin:0; padding: 0}\n",
       ".list-inline>li {display: inline-block}\n",
       ".list-inline>li:not(:last-child)::after {content: \"\\00b7\"; padding: 0 .5ex}\n",
       "</style>\n",
       "<ol class=list-inline><li>200</li><li>6</li></ol>\n"
      ],
      "text/latex": [
       "\\begin{enumerate*}\n",
       "\\item 200\n",
       "\\item 6\n",
       "\\end{enumerate*}\n"
      ],
      "text/markdown": [
       "1. 200\n",
       "2. 6\n",
       "\n",
       "\n"
      ],
      "text/plain": [
       "[1] 200   6"
      ]
     },
     "metadata": {},
     "output_type": "display_data"
    },
    {
     "data": {
      "text/html": [
       "<ol>\n",
       "\t<li>NULL</li>\n",
       "\t<li><style>\n",
       ".list-inline {list-style: none; margin:0; padding: 0}\n",
       ".list-inline>li {display: inline-block}\n",
       ".list-inline>li:not(:last-child)::after {content: \"\\00b7\"; padding: 0 .5ex}\n",
       "</style>\n",
       "<ol class=list-inline><li>'A'</li><li>'B'</li><li>'C'</li><li>'D'</li><li>'E'</li><li>'F'</li></ol>\n",
       "</li>\n",
       "</ol>\n"
      ],
      "text/latex": [
       "\\begin{enumerate}\n",
       "\\item NULL\n",
       "\\item \\begin{enumerate*}\n",
       "\\item 'A'\n",
       "\\item 'B'\n",
       "\\item 'C'\n",
       "\\item 'D'\n",
       "\\item 'E'\n",
       "\\item 'F'\n",
       "\\end{enumerate*}\n",
       "\n",
       "\\end{enumerate}\n"
      ],
      "text/markdown": [
       "1. NULL\n",
       "2. 1. 'A'\n",
       "2. 'B'\n",
       "3. 'C'\n",
       "4. 'D'\n",
       "5. 'E'\n",
       "6. 'F'\n",
       "\n",
       "\n",
       "\n",
       "\n",
       "\n"
      ],
      "text/plain": [
       "[[1]]\n",
       "NULL\n",
       "\n",
       "[[2]]\n",
       "[1] \"A\" \"B\" \"C\" \"D\" \"E\" \"F\"\n"
      ]
     },
     "metadata": {},
     "output_type": "display_data"
    },
    {
     "data": {
      "text/html": [
       "'counts'"
      ],
      "text/latex": [
       "'counts'"
      ],
      "text/markdown": [
       "'counts'"
      ],
      "text/plain": [
       "[1] \"counts\""
      ]
     },
     "metadata": {},
     "output_type": "display_data"
    },
    {
     "data": {
      "text/html": [
       "<table>\n",
       "<caption>A matrix: 6 × 6 of type dbl</caption>\n",
       "<thead>\n",
       "\t<tr><th scope=col>A</th><th scope=col>B</th><th scope=col>C</th><th scope=col>D</th><th scope=col>E</th><th scope=col>F</th></tr>\n",
       "</thead>\n",
       "<tbody>\n",
       "\t<tr><td> 896.0646</td><td>5066.1967</td><td>4075.7451</td><td>5287.9803</td><td>5915.1151</td><td>2807.898</td></tr>\n",
       "\t<tr><td>6445.7028</td><td>9319.9921</td><td> 432.3704</td><td>1899.0602</td><td>1127.5161</td><td>7117.197</td></tr>\n",
       "\t<tr><td>1605.2677</td><td> 574.1738</td><td>9013.0374</td><td>4602.2937</td><td>5200.8837</td><td>2354.680</td></tr>\n",
       "\t<tr><td>3195.1520</td><td>4034.5101</td><td>6206.0085</td><td>8566.9528</td><td>2047.0686</td><td>6295.844</td></tr>\n",
       "\t<tr><td>4666.2822</td><td>7866.2613</td><td>6235.2263</td><td> 708.3069</td><td> 470.9615</td><td>5979.806</td></tr>\n",
       "\t<tr><td>8649.6585</td><td>1462.4423</td><td>5013.9480</td><td> 972.1192</td><td>2995.2052</td><td>9334.861</td></tr>\n",
       "</tbody>\n",
       "</table>\n"
      ],
      "text/latex": [
       "A matrix: 6 × 6 of type dbl\n",
       "\\begin{tabular}{llllll}\n",
       " A & B & C & D & E & F\\\\\n",
       "\\hline\n",
       "\t  896.0646 & 5066.1967 & 4075.7451 & 5287.9803 & 5915.1151 & 2807.898\\\\\n",
       "\t 6445.7028 & 9319.9921 &  432.3704 & 1899.0602 & 1127.5161 & 7117.197\\\\\n",
       "\t 1605.2677 &  574.1738 & 9013.0374 & 4602.2937 & 5200.8837 & 2354.680\\\\\n",
       "\t 3195.1520 & 4034.5101 & 6206.0085 & 8566.9528 & 2047.0686 & 6295.844\\\\\n",
       "\t 4666.2822 & 7866.2613 & 6235.2263 &  708.3069 &  470.9615 & 5979.806\\\\\n",
       "\t 8649.6585 & 1462.4423 & 5013.9480 &  972.1192 & 2995.2052 & 9334.861\\\\\n",
       "\\end{tabular}\n"
      ],
      "text/markdown": [
       "\n",
       "A matrix: 6 × 6 of type dbl\n",
       "\n",
       "| A | B | C | D | E | F |\n",
       "|---|---|---|---|---|---|\n",
       "|  896.0646 | 5066.1967 | 4075.7451 | 5287.9803 | 5915.1151 | 2807.898 |\n",
       "| 6445.7028 | 9319.9921 |  432.3704 | 1899.0602 | 1127.5161 | 7117.197 |\n",
       "| 1605.2677 |  574.1738 | 9013.0374 | 4602.2937 | 5200.8837 | 2354.680 |\n",
       "| 3195.1520 | 4034.5101 | 6206.0085 | 8566.9528 | 2047.0686 | 6295.844 |\n",
       "| 4666.2822 | 7866.2613 | 6235.2263 |  708.3069 |  470.9615 | 5979.806 |\n",
       "| 8649.6585 | 1462.4423 | 5013.9480 |  972.1192 | 2995.2052 | 9334.861 |\n",
       "\n"
      ],
      "text/plain": [
       "     A         B         C         D         E         F       \n",
       "[1,]  896.0646 5066.1967 4075.7451 5287.9803 5915.1151 2807.898\n",
       "[2,] 6445.7028 9319.9921  432.3704 1899.0602 1127.5161 7117.197\n",
       "[3,] 1605.2677  574.1738 9013.0374 4602.2937 5200.8837 2354.680\n",
       "[4,] 3195.1520 4034.5101 6206.0085 8566.9528 2047.0686 6295.844\n",
       "[5,] 4666.2822 7866.2613 6235.2263  708.3069  470.9615 5979.806\n",
       "[6,] 8649.6585 1462.4423 5013.9480  972.1192 2995.2052 9334.861"
      ]
     },
     "metadata": {},
     "output_type": "display_data"
    }
   ],
   "source": [
    "nrows <- 200; ncols <- 6\n",
    "counts <- matrix(runif(nrows * ncols, 1, 1e4), nrows)\n",
    "rowRanges <- GRanges(rep(c(\"chr1\", \"chr2\"), c(50, 150)),\n",
    "                     IRanges(floor(runif(200, 1e5, 1e6)), width=100),\n",
    "                     strand=sample(c(\"+\", \"-\"), 200, TRUE),\n",
    "                     feature_id=sprintf(\"ID%03d\", 1:200))\n",
    "colData <- DataFrame(Treatment=rep(c(\"ChIP\", \"Input\"), 3),\n",
    "                     row.names=LETTERS[1:6])\n",
    "rse <- SummarizedExperiment(assays=SimpleList(counts=counts),\n",
    "                            rowRanges=rowRanges, colData=colData)\n",
    "rse\n",
    "dim(rse)\n",
    "dimnames(rse)\n",
    "assayNames(rse)\n",
    "head(assay(rse))"
   ]
  },
  {
   "cell_type": "code",
   "execution_count": 13,
   "metadata": {},
   "outputs": [
    {
     "data": {
      "text/plain": [
       "GRanges object with 200 ranges and 1 metadata column:\n",
       "        seqnames        ranges strand |  feature_id\n",
       "           <Rle>     <IRanges>  <Rle> | <character>\n",
       "    [1]     chr1 348245-348344      - |       ID001\n",
       "    [2]     chr1 368465-368564      - |       ID002\n",
       "    [3]     chr1 696524-696623      - |       ID003\n",
       "    [4]     chr1 749724-749823      - |       ID004\n",
       "    [5]     chr1 376001-376100      - |       ID005\n",
       "    ...      ...           ...    ... .         ...\n",
       "  [196]     chr2 821735-821834      + |       ID196\n",
       "  [197]     chr2 552989-553088      + |       ID197\n",
       "  [198]     chr2 454941-455040      - |       ID198\n",
       "  [199]     chr2 556872-556971      - |       ID199\n",
       "  [200]     chr2 853129-853228      + |       ID200\n",
       "  -------\n",
       "  seqinfo: 2 sequences from an unspecified genome; no seqlengths"
      ]
     },
     "metadata": {},
     "output_type": "display_data"
    },
    {
     "data": {
      "text/plain": [
       "DataFrame with 200 rows and 1 column\n",
       "     feature_id\n",
       "    <character>\n",
       "1         ID001\n",
       "2         ID002\n",
       "3         ID003\n",
       "4         ID004\n",
       "5         ID005\n",
       "...         ...\n",
       "196       ID196\n",
       "197       ID197\n",
       "198       ID198\n",
       "199       ID199\n",
       "200       ID200"
      ]
     },
     "metadata": {},
     "output_type": "display_data"
    },
    {
     "data": {
      "text/plain": [
       "DataFrame with 6 rows and 1 column\n",
       "    Treatment\n",
       "  <character>\n",
       "A        ChIP\n",
       "B       Input\n",
       "C        ChIP\n",
       "D       Input\n",
       "E        ChIP\n",
       "F       Input"
      ]
     },
     "metadata": {},
     "output_type": "display_data"
    }
   ],
   "source": [
    "rowRanges(rse)\n",
    "rowData(rse)  # same as 'mcols(rowRanges(rse))'\n",
    "colData(rse)"
   ]
  },
  {
   "cell_type": "markdown",
   "metadata": {},
   "source": [
    "## Second half; advanced topics"
   ]
  },
  {
   "cell_type": "markdown",
   "metadata": {},
   "source": [
    "```\n",
    "## Optional:\n",
    "BiocManager::install(\"iSEE\")\n",
    "BiocManager::install(\"recount\")\n",
    "BiocManager::install(\"spatialLIBD\")\n",
    "```"
   ]
  },
  {
   "cell_type": "markdown",
   "metadata": {},
   "source": [
    "### iSEE (Interactive SummarizedExperiment Explorer)\n",
    "- [Documentation](http://bioconductor.org/packages/release/bioc/html/iSEE.html)\n",
    "- [vignette](http://bioconductor.org/packages/release/bioc/vignettes/iSEE/inst/doc/basic.html)"
   ]
  },
  {
   "cell_type": "markdown",
   "metadata": {},
   "source": [
    "### Explore the rse object interactively"
   ]
  },
  {
   "cell_type": "code",
   "execution_count": 14,
   "metadata": {},
   "outputs": [
    {
     "name": "stderr",
     "output_type": "stream",
     "text": [
      "Loading required package: SingleCellExperiment\n",
      "\n",
      "Loading required package: shiny\n",
      "\n",
      "\n",
      "Listening on http://127.0.0.1:3759\n",
      "\n"
     ]
    }
   ],
   "source": [
    "library(\"iSEE\")\n",
    "iSEE::iSEE(rse) "
   ]
  },
  {
   "cell_type": "markdown",
   "metadata": {},
   "source": [
    "- This does not create a pop-up in juptyer-lab.\n",
    "- Copy the url to a web browser. Loads very fast on my labtop (4 core, 16G RAM)\n",
    "- This must be interrupted by hand or commented out."
   ]
  },
  {
   "cell_type": "markdown",
   "metadata": {},
   "source": [
    "## recount\n",
    "- [Documentation](http://bioconductor.org/packages/release/bioc/html/recount.html)\n",
    "- [Documentation](http://bioconductor.org/packages/release/bioc/vignettes/recount/inst/doc/recount-quickstart.html)"
   ]
  },
  {
   "cell_type": "markdown",
   "metadata": {},
   "source": [
    "#### Obtain more RSE objects from recount2\n",
    "[Leo's shinyapp](https://jhubiostatistics.shinyapps.io/recount/)"
   ]
  },
  {
   "cell_type": "code",
   "execution_count": 15,
   "metadata": {},
   "outputs": [
    {
     "name": "stderr",
     "output_type": "stream",
     "text": [
      "Setting options('download.file.method.GEOquery'='auto')\n",
      "\n",
      "Setting options('GEOquery.inmemory.gpl'=FALSE)\n",
      "\n",
      "2020-05-16 09:54:01 downloading file rse_gene.Rdata to SRP009615\n",
      "\n"
     ]
    },
    {
     "name": "stdout",
     "output_type": "stream",
     "text": [
      "Loading objects:\n",
      "  rse_gene\n"
     ]
    },
    {
     "data": {
      "text/plain": [
       "class: RangedSummarizedExperiment \n",
       "dim: 58037 12 \n",
       "metadata(0):\n",
       "assays(1): counts\n",
       "rownames(58037): ENSG00000000003.14 ENSG00000000005.5 ...\n",
       "  ENSG00000283698.1 ENSG00000283699.1\n",
       "rowData names(3): gene_id bp_length symbol\n",
       "colnames(12): SRR387777 SRR387778 ... SRR389083 SRR389084\n",
       "colData names(21): project sample ... title characteristics"
      ]
     },
     "metadata": {},
     "output_type": "display_data"
    }
   ],
   "source": [
    "library(\"recount\")\n",
    "recount::download_study(\"SRP009615\")\n",
    "load(file.path(\"SRP009615\", \"rse_gene.Rdata\"), verbose = TRUE)\n",
    "rse_gene"
   ]
  },
  {
   "cell_type": "markdown",
   "metadata": {},
   "source": [
    "### Rename to avoid losing it in our next step"
   ]
  },
  {
   "cell_type": "code",
   "execution_count": 16,
   "metadata": {},
   "outputs": [],
   "source": [
    "rse_gene_SRP009615 <- rse_gene"
   ]
  },
  {
   "cell_type": "markdown",
   "metadata": {},
   "source": [
    "### [LIBD eQTL browser:](http://eqtl.brainseq.org/)\n",
    "- [BrainSeq Phase II:](http://eqtl.brainseq.org/phase2/eqtl/)\n",
    "- [Data files:](http://eqtl.brainseq.org/phase2/)"
   ]
  },
  {
   "cell_type": "markdown",
   "metadata": {},
   "source": [
    "### BrainSeq Phase II\n",
    "- This is a 290 Mb download! The download time is relatively quick."
   ]
  },
  {
   "cell_type": "code",
   "execution_count": 17,
   "metadata": {},
   "outputs": [
    {
     "name": "stdout",
     "output_type": "stream",
     "text": [
      "Loading objects:\n",
      "  rse_gene\n"
     ]
    },
    {
     "data": {
      "text/plain": [
       "class: RangedSummarizedExperiment \n",
       "dim: 58037 900 \n",
       "metadata(0):\n",
       "assays(2): counts rpkm\n",
       "rownames(58037): ENSG00000223972.5 ENSG00000227232.5 ...\n",
       "  ENSG00000210195.2 ENSG00000210196.2\n",
       "rowData names(11): Length gencodeID ... gencodeTx passExprsCut\n",
       "colnames(900): R10424 R12195 ... R5766 R5768\n",
       "colData names(54): SAMPLE_ID FQCbasicStats ... snpPC9 snpPC10"
      ]
     },
     "metadata": {},
     "output_type": "display_data"
    }
   ],
   "source": [
    "download.file(\n",
    "    paste0(\n",
    "        \"https://s3.us-east-2.amazonaws.com/\", \n",
    "        \"libd-brainseq2/rse_gene_unfiltered.Rdata\"\n",
    "    ),\n",
    "    \"rse_gene_unfiltered.Rdata\",\n",
    "    mode = \"wb\"\n",
    ")\n",
    "load(\"rse_gene_unfiltered.Rdata\", verbose = TRUE)\n",
    "rse_gene"
   ]
  },
  {
   "cell_type": "markdown",
   "metadata": {},
   "source": [
    "## SingleCellExperiment\n",
    "- [SingleCellExperiment Documentation](http://bioconductor.org/packages/release/bioc/html/SingleCellExperiment.html)\n",
    "- [SingleCellExperiment Vignette](http://bioconductor.org/packages/release/bioc/vignettes/SingleCellExperiment/inst/doc/intro.html)\n",
    "- [Tutoral: Orchestrating Single-Cell Analysis with Bioconductor](https://osca.bioconductor.org/)\n",
    "- [SingleCellExperiment Manuscript](https://www.nature.com/articles/s41592-019-0654-x)"
   ]
  },
  {
   "cell_type": "markdown",
   "metadata": {},
   "source": [
    "## spatialLIBD\n",
    "- [spatialLIBD Documentation](http://bioconductor.org/packages/release/data/experiment/html/spatialLIBD.html)\n",
    "- [spatialLIBD Vignette](http://bioconductor.org/packages/release/data/experiment/vignettes/spatialLIBD/inst/doc/spatialLIBD.html)"
   ]
  },
  {
   "cell_type": "markdown",
   "metadata": {
    "slideshow": {
     "slide_type": "slide"
    }
   },
   "source": [
    "## Reproducibility information"
   ]
  },
  {
   "cell_type": "code",
   "execution_count": 18,
   "metadata": {},
   "outputs": [
    {
     "name": "stdout",
     "output_type": "stream",
     "text": [
      "[1] \"Reproducibility information:\"\n"
     ]
    },
    {
     "data": {
      "text/plain": [
       "[1] \"2020-05-16 09:54:59 EDT\""
      ]
     },
     "metadata": {},
     "output_type": "display_data"
    },
    {
     "data": {
      "text/plain": [
       "   user  system elapsed \n",
       " 24.431   3.711 123.052 "
      ]
     },
     "metadata": {},
     "output_type": "display_data"
    },
    {
     "data": {
      "text/plain": [
       "─ Session info ───────────────────────────────────────────────────────────────────────────────────────────────────────\n",
       " setting  value                       \n",
       " version  R version 4.0.0 (2020-04-24)\n",
       " os       Arch Linux                  \n",
       " system   x86_64, linux-gnu           \n",
       " ui       X11                         \n",
       " language (EN)                        \n",
       " collate  en_US.UTF-8                 \n",
       " ctype    en_US.UTF-8                 \n",
       " tz       America/New_York            \n",
       " date     2020-05-16                  \n",
       "\n",
       "─ Packages ───────────────────────────────────────────────────────────────────────────────────────────────────────────\n",
       " package              * version  date       lib source        \n",
       " acepack                1.4.1    2016-10-29 [1] CRAN (R 4.0.0)\n",
       " AnnotationDbi          1.50.0   2020-04-27 [1] Bioconductor  \n",
       " askpass                1.1      2019-01-13 [1] CRAN (R 4.0.0)\n",
       " assertthat             0.2.1    2019-03-21 [1] CRAN (R 4.0.0)\n",
       " backports              1.1.6    2020-04-05 [1] CRAN (R 4.0.0)\n",
       " base64enc              0.1-3    2015-07-28 [1] CRAN (R 4.0.0)\n",
       " Biobase              * 2.48.0   2020-04-27 [1] Bioconductor  \n",
       " BiocFileCache          1.12.0   2020-04-27 [1] Bioconductor  \n",
       " BiocGenerics         * 0.34.0   2020-04-27 [1] Bioconductor  \n",
       " BiocParallel           1.22.0   2020-04-27 [1] Bioconductor  \n",
       " biomaRt                2.44.0   2020-04-27 [1] Bioconductor  \n",
       " Biostrings             2.56.0   2020-04-27 [1] Bioconductor  \n",
       " bit                    1.1-15.2 2020-02-10 [1] CRAN (R 4.0.0)\n",
       " bit64                  0.9-7    2017-05-08 [1] CRAN (R 4.0.0)\n",
       " bitops                 1.0-6    2013-08-17 [1] CRAN (R 4.0.0)\n",
       " blob                   1.2.1    2020-01-20 [1] CRAN (R 4.0.0)\n",
       " BSgenome               1.56.0   2020-04-27 [1] Bioconductor  \n",
       " bumphunter             1.30.0   2020-04-27 [1] Bioconductor  \n",
       " checkmate              2.0.0    2020-02-06 [1] CRAN (R 4.0.0)\n",
       " circlize               0.4.9    2020-04-30 [1] CRAN (R 4.0.0)\n",
       " cli                    2.0.2    2020-02-28 [1] CRAN (R 4.0.0)\n",
       " clue                   0.3-57   2019-02-25 [1] CRAN (R 4.0.0)\n",
       " cluster                2.1.0    2019-06-19 [2] CRAN (R 4.0.0)\n",
       " codetools              0.2-16   2018-12-24 [2] CRAN (R 4.0.0)\n",
       " colorspace             1.4-1    2019-03-18 [1] CRAN (R 4.0.0)\n",
       " colourpicker           1.0      2017-09-27 [1] CRAN (R 4.0.0)\n",
       " ComplexHeatmap         2.4.2    2020-05-04 [1] Bioconductor  \n",
       " crayon                 1.3.4    2017-09-16 [1] CRAN (R 4.0.0)\n",
       " curl                   4.3      2019-12-02 [1] CRAN (R 4.0.0)\n",
       " data.table             1.12.8   2019-12-09 [1] CRAN (R 4.0.0)\n",
       " DBI                    1.1.0    2019-12-15 [1] CRAN (R 4.0.0)\n",
       " dbplyr                 1.4.3    2020-04-19 [1] CRAN (R 4.0.0)\n",
       " DelayedArray         * 0.14.0   2020-04-27 [1] Bioconductor  \n",
       " derfinder              1.22.0   2020-04-27 [1] Bioconductor  \n",
       " derfinderHelper        1.22.0   2020-04-27 [1] Bioconductor  \n",
       " digest                 0.6.25   2020-02-23 [1] CRAN (R 4.0.0)\n",
       " doRNG                  1.8.2    2020-01-27 [1] CRAN (R 4.0.0)\n",
       " downloader             0.4      2015-07-09 [1] CRAN (R 4.0.0)\n",
       " dplyr                  0.8.5    2020-03-07 [1] CRAN (R 4.0.0)\n",
       " DT                     0.13     2020-03-23 [1] CRAN (R 4.0.0)\n",
       " ellipsis               0.3.0    2019-09-20 [1] CRAN (R 4.0.0)\n",
       " evaluate               0.14     2019-05-28 [1] CRAN (R 4.0.0)\n",
       " fansi                  0.4.1    2020-01-08 [1] CRAN (R 4.0.0)\n",
       " fastmap                1.0.1    2019-10-08 [1] CRAN (R 4.0.0)\n",
       " foreach                1.5.0    2020-03-30 [1] CRAN (R 4.0.0)\n",
       " foreign                0.8-78   2020-04-13 [2] CRAN (R 4.0.0)\n",
       " Formula                1.2-3    2018-05-03 [1] CRAN (R 4.0.0)\n",
       " GenomeInfoDb         * 1.24.0   2020-04-27 [1] Bioconductor  \n",
       " GenomeInfoDbData       1.2.3    2020-05-15 [1] Bioconductor  \n",
       " GenomicAlignments      1.24.0   2020-04-27 [1] Bioconductor  \n",
       " GenomicFeatures        1.40.0   2020-04-27 [1] Bioconductor  \n",
       " GenomicFiles           1.24.0   2020-04-27 [1] Bioconductor  \n",
       " GenomicRanges        * 1.40.0   2020-04-27 [1] Bioconductor  \n",
       " GEOquery               2.56.0   2020-04-27 [1] Bioconductor  \n",
       " GetoptLong             0.1.8    2020-01-08 [1] CRAN (R 4.0.0)\n",
       " ggplot2                3.3.0    2020-03-05 [1] CRAN (R 4.0.0)\n",
       " GlobalOptions          0.1.1    2019-09-30 [1] CRAN (R 4.0.0)\n",
       " glue                   1.4.0    2020-04-03 [1] CRAN (R 4.0.0)\n",
       " gridExtra              2.3      2017-09-09 [1] CRAN (R 4.0.0)\n",
       " gtable                 0.3.0    2019-03-25 [1] CRAN (R 4.0.0)\n",
       " Hmisc                  4.4-0    2020-03-23 [1] CRAN (R 4.0.0)\n",
       " hms                    0.5.3    2020-01-08 [1] CRAN (R 4.0.0)\n",
       " htmlTable              1.13.3   2019-12-04 [1] CRAN (R 4.0.0)\n",
       " htmltools              0.4.0    2019-10-04 [1] CRAN (R 4.0.0)\n",
       " htmlwidgets            1.5.1    2019-10-08 [1] CRAN (R 4.0.0)\n",
       " httpuv                 1.5.2    2019-09-11 [1] CRAN (R 4.0.0)\n",
       " httr                   1.4.1    2019-08-05 [1] CRAN (R 4.0.0)\n",
       " igraph                 1.2.5    2020-03-19 [1] CRAN (R 4.0.0)\n",
       " IRanges              * 2.22.1   2020-04-28 [1] Bioconductor  \n",
       " IRdisplay              0.7.0    2018-11-29 [1] CRAN (R 4.0.0)\n",
       " IRkernel               1.1      2019-12-06 [1] CRAN (R 4.0.0)\n",
       " iSEE                 * 2.0.0    2020-04-27 [1] Bioconductor  \n",
       " iterators              1.0.12   2019-07-26 [1] CRAN (R 4.0.0)\n",
       " jpeg                   0.1-8.1  2019-10-24 [1] CRAN (R 4.0.0)\n",
       " jsonlite               1.6.1    2020-02-02 [1] CRAN (R 4.0.0)\n",
       " knitr                  1.28     2020-02-06 [1] CRAN (R 4.0.0)\n",
       " later                  1.0.0    2019-10-04 [1] CRAN (R 4.0.0)\n",
       " lattice                0.20-41  2020-04-02 [2] CRAN (R 4.0.0)\n",
       " latticeExtra           0.6-29   2019-12-19 [1] CRAN (R 4.0.0)\n",
       " lifecycle              0.2.0    2020-03-06 [1] CRAN (R 4.0.0)\n",
       " limma                  3.44.1   2020-04-28 [1] Bioconductor  \n",
       " locfit                 1.5-9.4  2020-03-25 [1] CRAN (R 4.0.0)\n",
       " magrittr               1.5      2014-11-22 [1] CRAN (R 4.0.0)\n",
       " Matrix                 1.2-18   2019-11-27 [2] CRAN (R 4.0.0)\n",
       " matrixStats          * 0.56.0   2020-03-13 [1] CRAN (R 4.0.0)\n",
       " memoise                1.1.0    2017-04-21 [1] CRAN (R 4.0.0)\n",
       " mgcv                   1.8-31   2019-11-09 [2] CRAN (R 4.0.0)\n",
       " mime                   0.9      2020-02-04 [1] CRAN (R 4.0.0)\n",
       " miniUI                 0.1.1.1  2018-05-18 [1] CRAN (R 4.0.0)\n",
       " munsell                0.5.0    2018-06-12 [1] CRAN (R 4.0.0)\n",
       " nlme                   3.1-147  2020-04-13 [2] CRAN (R 4.0.0)\n",
       " nnet                   7.3-13   2020-02-25 [2] CRAN (R 4.0.0)\n",
       " openssl                1.4.1    2019-07-18 [1] CRAN (R 4.0.0)\n",
       " pbdZMQ                 0.3-3    2018-05-05 [1] CRAN (R 4.0.0)\n",
       " pillar                 1.4.3    2019-12-20 [1] CRAN (R 4.0.0)\n",
       " pkgconfig              2.0.3    2019-09-22 [1] CRAN (R 4.0.0)\n",
       " plyr                   1.8.6    2020-03-03 [1] CRAN (R 4.0.0)\n",
       " png                    0.1-7    2013-12-03 [1] CRAN (R 4.0.0)\n",
       " prettyunits            1.1.1    2020-01-24 [1] CRAN (R 4.0.0)\n",
       " progress               1.2.2    2019-05-16 [1] CRAN (R 4.0.0)\n",
       " promises               1.1.0    2019-10-04 [1] CRAN (R 4.0.0)\n",
       " purrr                  0.3.4    2020-04-17 [1] CRAN (R 4.0.0)\n",
       " qvalue                 2.20.0   2020-04-27 [1] Bioconductor  \n",
       " R6                     2.4.1    2019-11-12 [1] CRAN (R 4.0.0)\n",
       " rappdirs               0.3.1    2016-03-28 [1] CRAN (R 4.0.0)\n",
       " RColorBrewer           1.1-2    2014-12-07 [1] CRAN (R 4.0.0)\n",
       " Rcpp                   1.0.4.6  2020-04-09 [1] CRAN (R 4.0.0)\n",
       " RCurl                  1.98-1.2 2020-04-18 [1] CRAN (R 4.0.0)\n",
       " readr                  1.3.1    2018-12-21 [1] CRAN (R 4.0.0)\n",
       " recount              * 1.14.0   2020-04-27 [1] Bioconductor  \n",
       " rentrez                1.2.2    2019-05-02 [1] CRAN (R 4.0.0)\n",
       " repr                   1.1.0    2020-01-28 [1] CRAN (R 4.0.0)\n",
       " reshape2               1.4.4    2020-04-09 [1] CRAN (R 4.0.0)\n",
       " rintrojs               0.2.2    2019-05-29 [1] CRAN (R 4.0.0)\n",
       " rjson                  0.2.20   2018-06-08 [1] CRAN (R 4.0.0)\n",
       " rlang                  0.4.5    2020-03-01 [1] CRAN (R 4.0.0)\n",
       " rngtools               1.5      2020-01-23 [1] CRAN (R 4.0.0)\n",
       " rpart                  4.1-15   2019-04-12 [2] CRAN (R 4.0.0)\n",
       " Rsamtools              2.4.0    2020-04-27 [1] Bioconductor  \n",
       " RSQLite                2.2.0    2020-01-07 [1] CRAN (R 4.0.0)\n",
       " rstudioapi             0.11     2020-02-07 [1] CRAN (R 4.0.0)\n",
       " rtracklayer          * 1.48.0   2020-04-27 [1] Bioconductor  \n",
       " S4Vectors            * 0.26.0   2020-04-27 [1] Bioconductor  \n",
       " scales                 1.1.0    2019-11-18 [1] CRAN (R 4.0.0)\n",
       " sessioninfo            1.1.1    2018-11-05 [1] CRAN (R 4.0.0)\n",
       " shape                  1.4.4    2018-02-07 [1] CRAN (R 4.0.0)\n",
       " shiny                * 1.4.0.2  2020-03-13 [1] CRAN (R 4.0.0)\n",
       " shinyAce               0.4.1    2019-09-24 [1] CRAN (R 4.0.0)\n",
       " shinydashboard         0.7.1    2018-10-17 [1] CRAN (R 4.0.0)\n",
       " shinyjs                1.1      2020-01-13 [1] CRAN (R 4.0.0)\n",
       " shinyWidgets           0.5.2    2020-05-14 [1] CRAN (R 4.0.0)\n",
       " SingleCellExperiment * 1.10.1   2020-04-28 [1] Bioconductor  \n",
       " stringi                1.4.6    2020-02-17 [1] CRAN (R 4.0.0)\n",
       " stringr                1.4.0    2019-02-10 [1] CRAN (R 4.0.0)\n",
       " SummarizedExperiment * 1.18.1   2020-04-30 [1] Bioconductor  \n",
       " survival               3.1-12   2020-04-10 [2] CRAN (R 4.0.0)\n",
       " tibble                 3.0.1    2020-04-20 [1] CRAN (R 4.0.0)\n",
       " tidyr                  1.0.2    2020-01-24 [1] CRAN (R 4.0.0)\n",
       " tidyselect             1.0.0    2020-01-27 [1] CRAN (R 4.0.0)\n",
       " uuid                   0.1-4    2020-02-26 [1] CRAN (R 4.0.0)\n",
       " VariantAnnotation      1.34.0   2020-04-27 [1] Bioconductor  \n",
       " vctrs                  0.2.4    2020-03-10 [1] CRAN (R 4.0.0)\n",
       " vipor                  0.4.5    2017-03-22 [1] CRAN (R 4.0.0)\n",
       " viridisLite            0.3.0    2018-02-01 [1] CRAN (R 4.0.0)\n",
       " withr                  2.2.0    2020-04-20 [1] CRAN (R 4.0.0)\n",
       " xfun                   0.13     2020-04-13 [1] CRAN (R 4.0.0)\n",
       " XML                    3.99-0.3 2020-01-20 [1] CRAN (R 4.0.0)\n",
       " xml2                   1.3.2    2020-04-23 [1] CRAN (R 4.0.0)\n",
       " xtable                 1.8-4    2019-04-21 [1] CRAN (R 4.0.0)\n",
       " XVector                0.28.0   2020-04-27 [1] Bioconductor  \n",
       " zlibbioc               1.34.0   2020-04-27 [1] Bioconductor  \n",
       "\n",
       "[1] /home/kj/R/x86_64-pc-linux-gnu-library/4.0\n",
       "[2] /usr/lib/R/library"
      ]
     },
     "metadata": {},
     "output_type": "display_data"
    }
   ],
   "source": [
    "#install.packages('sessioninfo')\n",
    "print('Reproducibility information:')\n",
    "Sys.time()\n",
    "proc.time()\n",
    "options(width = 120)\n",
    "sessioninfo::session_info()"
   ]
  }
 ],
 "metadata": {
  "kernelspec": {
   "display_name": "R",
   "language": "R",
   "name": "ir"
  },
  "language_info": {
   "codemirror_mode": "r",
   "file_extension": ".r",
   "mimetype": "text/x-r-source",
   "name": "R",
   "pygments_lexer": "r",
   "version": "4.0.0"
  }
 },
 "nbformat": 4,
 "nbformat_minor": 4
}
